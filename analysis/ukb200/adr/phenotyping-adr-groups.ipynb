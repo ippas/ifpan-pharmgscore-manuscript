{
 "cells": [
  {
   "cell_type": "markdown",
   "id": "0",
   "metadata": {
    "tags": []
   },
   "source": [
    "### UKB phenotyping of patients with serious ADRs and WES available"
   ]
  },
  {
   "cell_type": "code",
   "execution_count": null,
   "id": "1",
   "metadata": {
    "tags": []
   },
   "outputs": [],
   "source": [
    "%load_ext autoreload\n",
    "%autoreload 2\n",
    "\n",
    "# wide notebook display in browser\n",
    "\n",
    "from IPython.display import display\n",
    "from IPython.display import HTML\n",
    "import IPython.core.display as di # Example: di.display_html('<h3>%s:</h3>' % str, raw=True)\n",
    "\n",
    "display(HTML(\"<style>.container { width:100% !important; }</style>\"))\n",
    "\n",
    "import hail as hl\n",
    "\n",
    "from analysis.utils.annotations import (\n",
    "    load_annotations,\n",
    "    annotate_adr_patients,\n",
    "    annotate_date_codes_dict,\n",
    "    annotate_intent\n",
    ")\n",
    "from analysis.ukb200.adr.kinship_pca_matches import remove_related\n",
    "\n",
    "from bokeh.io import show, output_notebook\n",
    "from bokeh.layouts import gridplot\n",
    "output_notebook()"
   ]
  },
  {
   "cell_type": "markdown",
   "id": "2",
   "metadata": {
    "tags": []
   },
   "source": [
    "### 1. Load annotations fields from UKB"
   ]
  },
  {
   "cell_type": "code",
   "execution_count": null,
   "id": "3",
   "metadata": {},
   "outputs": [],
   "source": [
    "ht = load_annotations('data/ukb-annotations.ht')\n",
    "codes = hl.import_table('raw/dataset/data-codings/coding19.tsv', delimiter='\\t')"
   ]
  },
  {
   "cell_type": "markdown",
   "id": "4",
   "metadata": {
    "jp-MarkdownHeadingCollapsed": true,
    "tags": []
   },
   "source": [
    "### 2. Annotate the table with diagnostic codes:\n",
    "\n",
    "additionaly:\n",
    "\n",
    "    - only samples that have WES are kept [note: should later be changed for WGS]\n",
    "    \n",
    "    - withrawed samples are removed"
   ]
  },
  {
   "cell_type": "code",
   "execution_count": null,
   "id": "5",
   "metadata": {},
   "outputs": [],
   "source": [
    "ht = annotate_adr_patients(annots = ht, overwrite=True)"
   ]
  },
  {
   "cell_type": "markdown",
   "id": "6",
   "metadata": {},
   "source": [
    "#### How many controls vs cases?"
   ]
  },
  {
   "cell_type": "code",
   "execution_count": null,
   "id": "7",
   "metadata": {},
   "outputs": [],
   "source": [
    "ht.aggregate(hl.agg.counter(ht.group))"
   ]
  },
  {
   "cell_type": "markdown",
   "id": "8",
   "metadata": {
    "jp-MarkdownHeadingCollapsed": true,
    "tags": []
   },
   "source": [
    "### 3. Annotate the table with a dictionary containing dates and diagnostic codes\n",
    "\n",
    "Here two fields are added: date_code_zip and date_code_dict. These are used to manually explore the data."
   ]
  },
  {
   "cell_type": "code",
   "execution_count": null,
   "id": "9",
   "metadata": {},
   "outputs": [],
   "source": [
    "ht = annotate_date_codes_dict(ht)"
   ]
  },
  {
   "cell_type": "markdown",
   "id": "10",
   "metadata": {
    "tags": []
   },
   "source": [
    "### 4. Annotate the table with antidepressant toxicity relevant phenotypes:\n",
    "\n",
    "#### Intent column:\n",
    "\n",
    "x 'therapy' - with therapeutic dose, no toxicity codes for ADs NO history od self-harm with drugs\n",
    "\n",
    "x 'accidental' - accidental toxicity may be mixed with other drugs NO history od self-harm with drugs\n",
    "\n",
    "x 'intentional' - any toxicity codes with any self harm history with drugs\n",
    "\n",
    "#### Self-harm history:\n",
    "\n",
    "x 'no_self_harm' - no codes related with self-harm (Z915, X6, X7, X80, X81, X82, X83, X84)\n",
    "\n",
    "x 'with_drugs' - any code with 'X6'\n",
    "\n",
    "x 'without_drugs' - other self harm codes\n",
    "\n",
    "#### Two other columns based on most common codes:\n",
    "\n",
    "x mental_health_inpatient:\n",
    "\n",
    "    # depression F329, F339, F322, F321, F323, F331, F334, F251, F315, F338, F328, F313, F330, F316, F332\n",
    "    \n",
    "    # anxiety  F419, F410, F411, F418, F606, F408, F409, F413\n",
    "    \n",
    "    # both F412 or depression & anxiety codes\n",
    "\n",
    "x drug_abuse:\n",
    "\n",
    "    # Z864\n",
    "    \n",
    "#### Death column:\n",
    " \n",
    "     # from ADR\n",
    "     \n",
    "     # different cause\n",
    "     \n",
    "     # still allive\n"
   ]
  },
  {
   "cell_type": "code",
   "execution_count": null,
   "id": "11",
   "metadata": {
    "jupyter": {
     "outputs_hidden": true,
     "source_hidden": true
    },
    "tags": []
   },
   "outputs": [],
   "source": [
    "ht = annotate_intent(ht)\n",
    "ht.aggregate(hl.agg.group_by(ht.intention, hl.agg.counter(ht.self_harm)))"
   ]
  },
  {
   "cell_type": "code",
   "execution_count": null,
   "id": "12",
   "metadata": {
    "jupyter": {
     "outputs_hidden": true,
     "source_hidden": true
    },
    "tags": []
   },
   "outputs": [],
   "source": [
    "ht.aggregate(hl.agg.group_by(ht.group, hl.agg.counter(ht.death)))"
   ]
  },
  {
   "cell_type": "markdown",
   "id": "13",
   "metadata": {
    "tags": []
   },
   "source": [
    "### 5. Table export after the initial phenotyping step:"
   ]
  },
  {
   "cell_type": "code",
   "execution_count": null,
   "id": "14",
   "metadata": {
    "jupyter": {
     "source_hidden": true
    },
    "tags": []
   },
   "outputs": [],
   "source": [
    "ht.write('data/hospital-codes-phenotyped.ht')"
   ]
  },
  {
   "cell_type": "markdown",
   "id": "15",
   "metadata": {
    "tags": []
   },
   "source": [
    "### 6. Remove related individuals from the final table"
   ]
  },
  {
   "cell_type": "code",
   "execution_count": null,
   "id": "16",
   "metadata": {
    "jupyter": {
     "source_hidden": true
    },
    "tags": []
   },
   "outputs": [],
   "source": [
    "ht = hl.read_table('data/hospital-codes-phenotyped.ht')"
   ]
  },
  {
   "cell_type": "code",
   "execution_count": null,
   "id": "17",
   "metadata": {
    "jupyter": {
     "source_hidden": true
    },
    "tags": []
   },
   "outputs": [],
   "source": [
    "ht = remove_related(ht, kin_cut=0.125)"
   ]
  },
  {
   "cell_type": "markdown",
   "id": "18",
   "metadata": {},
   "source": [
    "#### export final annotations for burden analysis and save the table"
   ]
  },
  {
   "cell_type": "code",
   "execution_count": null,
   "id": "19",
   "metadata": {
    "jupyter": {
     "source_hidden": true
    },
    "tags": []
   },
   "outputs": [],
   "source": [
    "ht.write('full-annots-for-burden.ht')"
   ]
  }
 ],
 "metadata": {
  "kernelspec": {
   "display_name": "Python 3 (ipykernel)",
   "language": "python",
   "name": "python3"
  },
  "language_info": {
   "codemirror_mode": {
    "name": "ipython",
    "version": 3
   },
   "file_extension": ".py",
   "mimetype": "text/x-python",
   "name": "python",
   "nbconvert_exporter": "python",
   "pygments_lexer": "ipython3",
   "version": "3.7.7"
  }
 },
 "nbformat": 4,
 "nbformat_minor": 5
}
