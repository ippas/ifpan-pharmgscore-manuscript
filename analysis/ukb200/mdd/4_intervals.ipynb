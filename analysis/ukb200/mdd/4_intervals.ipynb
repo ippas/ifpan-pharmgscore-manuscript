{
 "cells": [
  {
   "cell_type": "code",
   "execution_count": null,
   "id": "0",
   "metadata": {
    "tags": []
   },
   "outputs": [],
   "source": [
    "import pyspark\n",
    "import pandas as pd\n",
    "import dxpy\n",
    "import dxdata\n",
    "import numpy as np\n",
    "import matplotlib.pyplot as plt\n",
    "from bokeh.io import show, output_notebook\n",
    "from bokeh.layouts import gridplot\n",
    "import seaborn as sns\n",
    "import random\n",
    "from pyspark.sql import SparkSession\n",
    "from datetime import date\n",
    "import re\n",
    "import datetime\n",
    "from scipy import stats\n",
    "from scipy.stats import mode\n",
    "\n",
    "output_notebook()"
   ]
  },
  {
   "cell_type": "code",
   "execution_count": null,
   "id": "1",
   "metadata": {
    "tags": []
   },
   "outputs": [],
   "source": [
    "sc = pyspark.SparkContext()\n",
    "spark = pyspark.sql.SparkSession(sc)\n",
    "\n",
    "import hail as hl\n",
    "hl.init(sc=sc, default_reference='GRCh38')"
   ]
  },
  {
   "cell_type": "code",
   "execution_count": null,
   "id": "2",
   "metadata": {
    "tags": []
   },
   "outputs": [],
   "source": [
    "db_name = \"mdd_db\"\n",
    "db_uri = dxpy.find_one_data_object(name=f\"{db_name}\", classname=\"database\")['id']\n",
    "url = f\"dnax://{db_uri}/all_presc_v3.ht\"\n",
    "full = hl.read_table(url)"
   ]
  },
  {
   "cell_type": "code",
   "execution_count": null,
   "id": "3",
   "metadata": {
    "tags": []
   },
   "outputs": [],
   "source": [
    "full.describe()\n",
    "with_data = full.filter(hl.is_defined(full.date)).count()\n",
    "all_data=full.count()"
   ]
  },
  {
   "cell_type": "code",
   "execution_count": null,
   "id": "4",
   "metadata": {
    "tags": []
   },
   "outputs": [],
   "source": [
    "#how many\n",
    "print(with_data/all_data)"
   ]
  },
  {
   "cell_type": "code",
   "execution_count": null,
   "id": "5",
   "metadata": {
    "tags": []
   },
   "outputs": [],
   "source": [
    "df = full.group_by(full.eid).aggregate(unique_meds=hl.agg.collect_as_set(full.term))\n",
    "df = df.annotate(num_unique_meds=hl.len(df.unique_meds))"
   ]
  },
  {
   "cell_type": "code",
   "execution_count": null,
   "id": "6",
   "metadata": {
    "tags": []
   },
   "outputs": [],
   "source": [
    "drug_struct = hl.struct(\n",
    "        year=hl.int(full.date.split('-')[0]), \n",
    "        month=hl.int(full.date.split('-')[1]), \n",
    "        day=hl.int(full.date.split('-')[2]), \n",
    "        drug_name=full.term,\n",
    "        brand_name=full.brand_name,\n",
    "        source=full.source,\n",
    "        code=full.code,\n",
    "        date=full.date,\n",
    "        system=full.system,\n",
    "        info=full.info,\n",
    "        dose=full.dose,\n",
    "        tablets = full.tablets,\n",
    "    )"
   ]
  },
  {
   "cell_type": "code",
   "execution_count": null,
   "id": "7",
   "metadata": {
    "tags": []
   },
   "outputs": [],
   "source": [
    "aggregated_full = full.group_by(full.eid, full.term).aggregate(\n",
    "    medicines=hl.agg.collect(drug_struct)\n",
    ")\n",
    "aggregated_full.describe()"
   ]
  },
  {
   "cell_type": "code",
   "execution_count": null,
   "id": "8",
   "metadata": {
    "tags": []
   },
   "outputs": [],
   "source": [
    "aggregated_full = aggregated_full.annotate(\n",
    "    medicines=hl.sorted(\n",
    "        aggregated_full.medicines, \n",
    "        key=lambda x: (x.year, x.month, x.day)\n",
    "    )\n",
    ")"
   ]
  },
  {
   "cell_type": "code",
   "execution_count": null,
   "id": "9",
   "metadata": {
    "tags": []
   },
   "outputs": [],
   "source": [
    "def days_between_dates(date1, date2):\n",
    "    def is_leap_year(year):\n",
    "        return (year % 4 == 0) & ((year % 100 != 0) | (year % 400 == 0))\n",
    "\n",
    "    def days_in_month(year, month):\n",
    "        days_in_month = hl.array([31, 28 + is_leap_year(year), 31, 30, 31, 30, 31, 31, 30, 31, 30, 31])\n",
    "        return days_in_month[month - 1]\n",
    "\n",
    "    def days_since_epoch(date):\n",
    "        year = date.year\n",
    "        month = date.month\n",
    "        day = date.day\n",
    "\n",
    "        days = day - 1\n",
    "        days += hl.sum(hl.range(0, month - 1).map(lambda m: days_in_month(year, m + 1)))\n",
    "\n",
    "        days += hl.sum(hl.range(1970, year).map(lambda y: 365 + is_leap_year(y)))\n",
    "\n",
    "        return days\n",
    "\n",
    "    days1 = days_since_epoch(date1)\n",
    "    days2 = days_since_epoch(date2)\n",
    "\n",
    "    return days2 - days1"
   ]
  },
  {
   "cell_type": "code",
   "execution_count": null,
   "id": "10",
   "metadata": {
    "tags": []
   },
   "outputs": [],
   "source": [
    "aggregated_full = aggregated_full.annotate(\n",
    "    date_diffs=hl.enumerate(aggregated_full.medicines).flatmap(lambda i_drug:\n",
    "        hl.if_else(\n",
    "            i_drug[0] == 0,\n",
    "            hl.empty_array(hl.tint32),\n",
    "            hl.array([days_between_dates(aggregated_full.medicines[i_drug[0] - 1], i_drug[1])])\n",
    "        )\n",
    "    )\n",
    ")"
   ]
  },
  {
   "cell_type": "code",
   "execution_count": null,
   "id": "11",
   "metadata": {
    "tags": []
   },
   "outputs": [],
   "source": [
    "aggregated_full = aggregated_full.annotate(\n",
    "    date_diffs=hl.enumerate(aggregated_full.medicines).flatmap(lambda i_drug:\n",
    "        hl.if_else(\n",
    "            i_drug[0] == 0,\n",
    "            hl.empty_array(hl.tint32),\n",
    "            hl.array([days_between_dates(aggregated_full.medicines[i_drug[0] - 1], i_drug[1])])\n",
    "        )\n",
    "    ).append(-1)\n",
    ")"
   ]
  },
  {
   "cell_type": "code",
   "execution_count": null,
   "id": "12",
   "metadata": {
    "tags": []
   },
   "outputs": [],
   "source": [
    "aggregated_first = aggregated_full.annotate(\n",
    "    medicines=hl.zip(aggregated_full.medicines, aggregated_full.date_diffs)\n",
    "        .map(lambda meds_diff: hl.struct(\n",
    "            year=meds_diff[0].year,\n",
    "            month=meds_diff[0].month,\n",
    "            day=meds_diff[0].day,\n",
    "            drug_name=meds_diff[0].drug_name,\n",
    "            interval=meds_diff[1],\n",
    "            brand_name=meds_diff[0].brand_name,\n",
    "            source=meds_diff[0].source,\n",
    "            code=meds_diff[0].code,\n",
    "            date=meds_diff[0].date,\n",
    "            system=meds_diff[0].system,\n",
    "            info=meds_diff[0].info,\n",
    "            dose=meds_diff[0].dose,\n",
    "            tablets=meds_diff[0].tablets\n",
    "        ))\n",
    "        [0]\n",
    ")\n",
    "aggregated_first=aggregated_first.drop('date_diffs')"
   ]
  },
  {
   "cell_type": "code",
   "execution_count": null,
   "id": "13",
   "metadata": {
    "tags": []
   },
   "outputs": [],
   "source": [
    "intervals = aggregated_first.group_by(aggregated_first.medicines.interval).aggregate(counts=hl.agg.count())\n",
    "tab_counts=intervals.aggregate(hl.agg.collect_as_set(intervals.counts))"
   ]
  },
  {
   "cell_type": "code",
   "execution_count": null,
   "id": "14",
   "metadata": {
    "tags": []
   },
   "outputs": [],
   "source": [
    "suma=sum(tab_counts)\n",
    "print(36238/suma)\n",
    "print(suma)"
   ]
  },
  {
   "cell_type": "code",
   "execution_count": null,
   "id": "15",
   "metadata": {
    "tags": []
   },
   "outputs": [],
   "source": [
    "aggregated_full = aggregated_full.annotate(\n",
    "    medicines=hl.zip(aggregated_full.medicines, aggregated_full.date_diffs).map(lambda meds_diff:\n",
    "        hl.struct(\n",
    "            year=meds_diff[0].year,\n",
    "            month=meds_diff[0].month,\n",
    "            day=meds_diff[0].day,\n",
    "            drug_name=meds_diff[0].drug_name,\n",
    "            date_diff=meds_diff[1],\n",
    "            brand_name=meds_diff[0].brand_name,\n",
    "            source=meds_diff[0].source,\n",
    "            code=meds_diff[0].code,\n",
    "            date=meds_diff[0].date,\n",
    "            system=meds_diff[0].system,\n",
    "            info=meds_diff[0].info,\n",
    "            dose=meds_diff[0].dose,\n",
    "            tablets=meds_diff[0].tablets\n",
    "        )\n",
    "    )\n",
    ")"
   ]
  },
  {
   "cell_type": "code",
   "execution_count": null,
   "id": "16",
   "metadata": {
    "tags": []
   },
   "outputs": [],
   "source": [
    "aggregated_full = aggregated_full.drop('date_diffs')"
   ]
  },
  {
   "cell_type": "code",
   "execution_count": null,
   "id": "17",
   "metadata": {},
   "outputs": [],
   "source": [
    "ht=aggregated_full.add_index('idx')\n",
    "ht=ht.explode(ht.medicines)\n",
    "ht = ht.annotate(\n",
    "    tablets_value=hl.coalesce(ht.medicines.tablets, 0),\n",
    ")\n",
    "ht = ht.annotate(\n",
    "    segment=hl.scan.count_where(\n",
    "        (ht.medicines.date_diff - ht.tablets_value) >= 90)\n",
    ")\n",
    "ht=ht.drop('tablets_value')"
   ]
  },
  {
   "cell_type": "code",
   "execution_count": null,
   "id": "18",
   "metadata": {},
   "outputs": [],
   "source": [
    "ht=ht.group_by('idx','segment','term','eid').aggregate(medicines=hl.agg.collect(ht.medicines))"
   ]
  },
  {
   "cell_type": "code",
   "execution_count": null,
   "id": "19",
   "metadata": {
    "tags": []
   },
   "outputs": [],
   "source": [
    "ht=ht.add_index('therapy_id')\n",
    "ht=ht.key_by('therapy_id')\n",
    "ht=ht.drop('idx').drop('segment')"
   ]
  },
  {
   "cell_type": "code",
   "execution_count": null,
   "id": "20",
   "metadata": {
    "tags": []
   },
   "outputs": [],
   "source": [
    "count_by_eid=ht.group_by(ht.eid).aggregate(count_therapy=hl.agg.count())\n",
    "df=count_by_eid.to_pandas()"
   ]
  },
  {
   "cell_type": "code",
   "execution_count": null,
   "id": "21",
   "metadata": {},
   "outputs": [],
   "source": [
    "ht = ht.annotate(\n",
    "    medicines=hl.enumerate(ht.medicines)\n",
    ")"
   ]
  },
  {
   "cell_type": "code",
   "execution_count": null,
   "id": "22",
   "metadata": {
    "tags": []
   },
   "outputs": [],
   "source": [
    "ht = ht.annotate(\n",
    "    num_prescriptions=hl.len(ht.medicines)\n",
    ")"
   ]
  },
  {
   "cell_type": "code",
   "execution_count": null,
   "id": "23",
   "metadata": {
    "tags": []
   },
   "outputs": [],
   "source": [
    "ht.describe()"
   ]
  },
  {
   "cell_type": "code",
   "execution_count": null,
   "id": "24",
   "metadata": {
    "tags": []
   },
   "outputs": [],
   "source": [
    "def add_is_last_flag(med_tuple, num_prescriptions):\n",
    "    idx, struct = med_tuple\n",
    "    is_last = hl.if_else(idx == num_prescriptions - 1, 1, 0)\n",
    "    return hl.struct(\n",
    "        year=struct.year,\n",
    "        month=struct.month,\n",
    "        day=struct.day,\n",
    "        drug_name=struct.drug_name,\n",
    "        date_diff=struct.date_diff,\n",
    "        brand_name=struct.brand_name,\n",
    "        source=struct.source,\n",
    "        code=struct.code,\n",
    "        date=struct.date,\n",
    "        system=struct.system,\n",
    "        info=struct.info,\n",
    "        dose=struct.dose,\n",
    "        tablets=struct.tablets,\n",
    "        is_last=is_last\n",
    "    )\n",
    "\n",
    "ht = ht.annotate(\n",
    "    medicines=hl.map(lambda med: add_is_last_flag(med, ht.num_prescriptions), ht.medicines)\n",
    ")"
   ]
  },
  {
   "cell_type": "code",
   "execution_count": null,
   "id": "25",
   "metadata": {},
   "outputs": [],
   "source": [
    "ht.describe()"
   ]
  },
  {
   "cell_type": "code",
   "execution_count": null,
   "id": "26",
   "metadata": {},
   "outputs": [],
   "source": [
    "ht=ht.annotate(\n",
    "    duration=days_between_dates(ht.medicines[0], ht.medicines[ht.num_prescriptions - 1])\n",
    ")"
   ]
  },
  {
   "cell_type": "code",
   "execution_count": null,
   "id": "27",
   "metadata": {
    "tags": []
   },
   "outputs": [],
   "source": [
    "pandas=ht.distinct()\n",
    "pandas=pandas.key_by()\n",
    "pandas=pandas.select(pandas.therapy_id, pandas.term, pandas.eid, pandas.duration)\n",
    "pandas_df = pandas.to_pandas()"
   ]
  },
  {
   "cell_type": "code",
   "execution_count": null,
   "id": "28",
   "metadata": {
    "tags": []
   },
   "outputs": [],
   "source": [
    "plt.figure(figsize=(10, 6))\n",
    "sns.histplot(pandas_df['duration'], kde=False)\n",
    "plt.xlabel('Therapy duration')\n",
    "plt.ylabel('Frequency')\n",
    "plt.title('Histogram of duration of therapies')\n",
    "plt.xlim(0,1000)\n",
    "plt.grid(True)\n",
    "plt.show()"
   ]
  },
  {
   "cell_type": "code",
   "execution_count": null,
   "id": "29",
   "metadata": {},
   "outputs": [],
   "source": [
    "ht=ht.drop('term')\n",
    "ht=ht.explode(ht.medicines)"
   ]
  },
  {
   "cell_type": "code",
   "execution_count": null,
   "id": "30",
   "metadata": {
    "tags": []
   },
   "outputs": [],
   "source": [
    "def update_date_diff(med_struct):\n",
    "    date_diff = hl.if_else(med_struct.is_last == 1, -1, med_struct.date_diff)\n",
    "    return hl.struct(\n",
    "        year=med_struct.year,\n",
    "        month=med_struct.month,\n",
    "        day=med_struct.day,\n",
    "        drug_name=med_struct.drug_name,\n",
    "        date_diff=date_diff,\n",
    "        brand_name=med_struct.brand_name,\n",
    "        source=med_struct.source,\n",
    "        code=med_struct.code,\n",
    "        date=med_struct.date,\n",
    "        system=med_struct.system,\n",
    "        info=med_struct.info,\n",
    "        dose=med_struct.dose,\n",
    "        tablets=med_struct.tablets\n",
    "    )\n",
    "\n",
    "ht = ht.annotate(\n",
    "    medicines=update_date_diff(ht.medicines)\n",
    ")"
   ]
  },
  {
   "cell_type": "code",
   "execution_count": null,
   "id": "31",
   "metadata": {
    "tags": []
   },
   "outputs": [],
   "source": [
    "ht = ht.annotate(\n",
    "    drug_name=ht.medicines.drug_name,\n",
    "    interval=ht.medicines.date_diff,\n",
    "    brand_name=ht.medicines.brand_name,\n",
    "    source=ht.medicines.source,\n",
    "    code=ht.medicines.code,\n",
    "    date=ht.medicines.date,\n",
    "    system=ht.medicines.system,\n",
    "    info=ht.medicines.info,\n",
    "    dose=ht.medicines.dose,\n",
    "    tablets=ht.medicines.tablets\n",
    ")"
   ]
  },
  {
   "cell_type": "code",
   "execution_count": null,
   "id": "32",
   "metadata": {
    "tags": []
   },
   "outputs": [],
   "source": [
    "ht=ht.drop('medicines')"
   ]
  },
  {
   "cell_type": "code",
   "execution_count": null,
   "id": "33",
   "metadata": {
    "tags": []
   },
   "outputs": [],
   "source": [
    "ht.describe()"
   ]
  },
  {
   "cell_type": "code",
   "execution_count": null,
   "id": "34",
   "metadata": {
    "tags": []
   },
   "outputs": [],
   "source": [
    "df = ht.annotate(\n",
    "    tablets = hl.case()\n",
    "    .when(hl.is_missing(ht.tablets), -1)\n",
    "    .default(ht.tablets)\n",
    ")"
   ]
  },
  {
   "cell_type": "code",
   "execution_count": null,
   "id": "35",
   "metadata": {
    "tags": []
   },
   "outputs": [],
   "source": [
    "df = df.annotate(\n",
    "    interval = hl.case()\n",
    "    .when(((df.interval == -1) | hl.is_missing(df.interval)), df.tablets)\n",
    "    .default(df.interval)\n",
    ")"
   ]
  },
  {
   "cell_type": "code",
   "execution_count": null,
   "id": "36",
   "metadata": {
    "tags": []
   },
   "outputs": [],
   "source": [
    "df.describe()"
   ]
  },
  {
   "cell_type": "code",
   "execution_count": null,
   "id": "37",
   "metadata": {
    "tags": []
   },
   "outputs": [],
   "source": [
    "# update prescription with interval zeros\n",
    "# merge records with the same date and therapy id, update dose and tablets of ones of each and delete others\n",
    "\n",
    "merged_df = df.group_by(df.date, df.therapy_id).aggregate(\n",
    "    dose_list=hl.agg.collect(df.dose),\n",
    "    tablets_list=hl.agg.collect(df.tablets),\n",
    "    eid_list=hl.agg.collect(df.eid),\n",
    "    num_prescriptions_list=hl.agg.collect(df.num_prescriptions),\n",
    "    duration_list=hl.agg.collect(df.duration),\n",
    "    drug_name_list=hl.agg.collect(df.drug_name),\n",
    "    interval_list=hl.agg.collect(df.interval),\n",
    "    brand_name_list=hl.agg.collect(df.brand_name),\n",
    "    source_list=hl.agg.collect(df.source),\n",
    "    code_list=hl.agg.collect(df.code),\n",
    "    system_list=hl.agg.collect(df.system),\n",
    "    info_list=hl.agg.collect(df.info)\n",
    ")\n",
    "\n",
    "\n",
    "def compute_result(dose_list, tablets_list):\n",
    "    min_dose = hl.min(dose_list)\n",
    "    dose_tablets_product = hl.map(lambda x: x[0] * x[1], hl.zip(dose_list, tablets_list))\n",
    "    total_tablets = hl.sum(dose_tablets_product) / min_dose\n",
    "    return hl.struct(dose=min_dose, tablets=hl.int32(total_tablets))\n",
    "\n",
    "merged_df = merged_df.annotate(\n",
    "    result=compute_result(merged_df.dose_list, merged_df.tablets_list)\n",
    ")\n",
    "\n",
    "merged_df = merged_df.key_by()\n",
    "\n",
    "merged_df = merged_df.transmute(\n",
    "    dose=merged_df.result.dose,\n",
    "    tablets=merged_df.result.tablets,\n",
    "    eid=merged_df.eid_list[0],\n",
    "    num_prescriptions=merged_df.num_prescriptions_list[0],\n",
    "    duration=merged_df.duration_list[0],\n",
    "    drug_name=merged_df.drug_name_list[0],\n",
    "    interval=hl.max(merged_df.interval_list),\n",
    "    brand_name=merged_df.brand_name_list[0],\n",
    "    source=merged_df.source_list[0],\n",
    "    code=merged_df.code_list[0],\n",
    "    system=merged_df.system_list[0],\n",
    "    info=merged_df.info_list[0],\n",
    ")"
   ]
  },
  {
   "cell_type": "code",
   "execution_count": null,
   "id": "38",
   "metadata": {
    "tags": []
   },
   "outputs": [],
   "source": [
    "df = merged_df\n",
    "df = df.annotate(\n",
    "    ratio = hl.case()\n",
    "    .when(df.interval == -1, -1)\n",
    "    .when(df.interval == 0, 0)\n",
    "    .default(df.tablets/df.interval)\n",
    ")\n",
    "df = df.drop(df.dose_list, df.tablets_list)"
   ]
  },
  {
   "cell_type": "code",
   "execution_count": null,
   "id": "39",
   "metadata": {
    "tags": []
   },
   "outputs": [],
   "source": [
    "selected_df = df.select('eid', 'ratio')\n",
    "pandas_df = selected_df.to_pandas()"
   ]
  },
  {
   "cell_type": "code",
   "execution_count": null,
   "id": "40",
   "metadata": {
    "tags": []
   },
   "outputs": [],
   "source": [
    "plt.figure(figsize=(10, 6))\n",
    "sns.histplot(pandas_df['ratio'], bins=[-0.5, 0.5, 1.5, 2.5, 3.5, 4.5, 5.5, 6.5, 7.5, 8.5, 9.5, 10.5, 11.5], kde=False)\n",
    "plt.xlabel('Value')\n",
    "plt.ylabel('Frequency')\n",
    "plt.title('Histogram for ratio column')\n",
    "plt.grid(True)\n",
    "plt.show()"
   ]
  },
  {
   "cell_type": "code",
   "execution_count": null,
   "id": "41",
   "metadata": {
    "tags": []
   },
   "outputs": [],
   "source": [
    "unique_therapy_per_patient = df.group_by('eid').aggregate(\n",
    "    unique_therapy_ids=hl.agg.collect_as_set(df.therapy_id)\n",
    ")\n",
    "unique_therapy_per_patient = unique_therapy_per_patient.annotate(\n",
    "    unique_therapy_count=hl.len(unique_therapy_per_patient.unique_therapy_ids)\n",
    ")"
   ]
  },
  {
   "cell_type": "code",
   "execution_count": null,
   "id": "42",
   "metadata": {
    "tags": []
   },
   "outputs": [],
   "source": [
    "pandas_df=unique_therapy_per_patient.to_pandas()\n",
    "print('max:')\n",
    "print(pandas_df['unique_therapy_count'].max())\n",
    "print('median:')\n",
    "print(pandas_df['unique_therapy_count'].median())\n",
    "print('mean:')\n",
    "print(pandas_df['unique_therapy_count'].mean())\n",
    "sns.histplot(pandas_df['unique_therapy_count'], bins=[-0.5, 0.5, 1.5, 2.5, 3.5, 4.5, 5.5, 6.5, 7.5, 8.5, 9.5, 10.5, 11.5, 12.5, 13.5, 14.5, 15.5, 16.5, 17.5, 18.5, 19.5, 20.5], kde=False)\n",
    "plt.xlabel('Number of unique therapies per patient')\n",
    "plt.ylabel('Frequency')\n",
    "plt.title('Histogram showing number of unique therapies per patient')\n",
    "plt.grid(True)\n",
    "plt.show()"
   ]
  },
  {
   "cell_type": "code",
   "execution_count": null,
   "id": "43",
   "metadata": {
    "tags": []
   },
   "outputs": [],
   "source": [
    "result = df.group_by(df.therapy_id).aggregate(number_of_days=hl.agg.sum(df.interval))"
   ]
  },
  {
   "cell_type": "code",
   "execution_count": null,
   "id": "44",
   "metadata": {
    "tags": []
   },
   "outputs": [],
   "source": [
    "long_therapies=result.filter(result.number_of_days>1000).to_pandas()['therapy_id']"
   ]
  },
  {
   "cell_type": "code",
   "execution_count": null,
   "id": "45",
   "metadata": {
    "tags": []
   },
   "outputs": [],
   "source": [
    "def intervals(therapy_id, points, median_change_points, mode_change_points, labels=True,):\n",
    "    color='blue'\n",
    "    plt.figure(figsize=(16, 6))\n",
    "    max_interval = None\n",
    "    points['date'] = pd.to_datetime(points['date'])\n",
    "\n",
    "    plt.stem(points['date'], points['tablets'], 'b', linefmt='-', markerfmt='D', basefmt=\" \")\n",
    "\n",
    "    if max_interval is None or points['tablets'].max() > max_interval:\n",
    "        max_interval = points['tablets'].max()\n",
    "            \n",
    "    if labels:\n",
    "        for date, interval, dose, tablets in zip(points['date'], points['interval'], points['dose'], points['tablets']):\n",
    "            plt.annotate(f'{dose} - {(tablets/interval):.2f}', (date, tablets), textcoords=\"offset points\", xytext=(0,10), ha='left', fontsize=8, rotation=45)\n",
    "\n",
    "    plt.stem(points['date'], points['interval'], 'b', linefmt='-', markerfmt='s', basefmt=\" \")\n",
    "            \n",
    "    if max_interval is None or points['interval'].max() > max_interval:\n",
    "        max_interval = points['interval'].max()\n",
    "    print(\"Mean:\", np.mean(points['interval']))\n",
    "    print(\"Median:\", np.median(points['interval']))\n",
    "    print(\"Mode:\", stats.mode(points['interval']).mode[0])\n",
    "    \n",
    "    for date in points['date'].unique():\n",
    "        tablets_value = points[points['date'] == date]['tablets'].values[0]\n",
    "        interval_value = points[points['date'] == date]['interval'].values[0]\n",
    "        plt.vlines(date, min(tablets_value, interval_value), max(tablets_value, interval_value), colors=color)\n",
    "    \n",
    "    for x in mode_change_points:\n",
    "         plt.axvline(x=x, color='magenta', linestyle='--')\n",
    "            \n",
    "    for x in median_change_points:\n",
    "         plt.axvline(x=x, color='red', linestyle='--')\n",
    "    \n",
    "    plt.ylim(-5, (max_interval * 1.2))\n",
    "    plt.grid(axis='y', linestyle='--', linewidth=0.5)\n",
    "    plt.title(f'therapy_id-{therapy_id}')"
   ]
  },
  {
   "cell_type": "code",
   "execution_count": null,
   "id": "46",
   "metadata": {
    "tags": []
   },
   "outputs": [],
   "source": [
    "def change_points_graphs(tid):\n",
    "    data = df.filter(df.therapy_id == tid)\n",
    "    data_pd = data.to_pandas()\n",
    "\n",
    "    if len(data_pd) <= 7:\n",
    "        print(f\"For {tid} its to short.\")\n",
    "        intervals(tid, data_pd, [], [])\n",
    "        return\n",
    "\n",
    "    def detect_changes(data, window_size=3, sd_fraction=1.5):\n",
    "        median = []\n",
    "        mode = []\n",
    "        for x in range(window_size- 1):\n",
    "            median.append(data[x])\n",
    "            mode.append(data[x])\n",
    "\n",
    "        for x in range(len(data) - window_size + 1):\n",
    "            window_median = np.median(data[x:(x + window_size)])\n",
    "            window_mode = data[x:(x + window_size)].mode().iloc[0]\n",
    "            median.append(window_median)\n",
    "            mode.append(window_mode)\n",
    "\n",
    "        median = np.diff(median)\n",
    "        mode = np.diff(mode)\n",
    "\n",
    "        # Calculate moving average\n",
    "        #moving_avg = np.convolve(data, np.ones(window_size)/window_size, mode='valid')\n",
    "        median_moving_avg = np.convolve(median, np.ones(window_size)/window_size, mode='valid')\n",
    "        mode_moving_avg = np.convolve(mode, np.ones(window_size)/window_size, mode='valid')\n",
    "\n",
    "        # Calculate standard deviation\n",
    "        #sd = np.std(data)\n",
    "        median_sd = np.std(median)\n",
    "        mode_sd = np.std(mode)\n",
    "\n",
    "        # Set threshold as a fraction of standard deviation\n",
    "        median_threshold = sd_fraction * median_sd\n",
    "        mode_threshold = sd_fraction * mode_sd\n",
    "\n",
    "        # Detect changes\n",
    "        median_changes = np.abs(median[window_size-1:] - median_moving_avg) > median_threshold\n",
    "        median_change_points = np.where(median_changes)[0] + (window_size - 1)\n",
    "        mode_changes = np.abs(mode[window_size-1:] - mode_moving_avg) > mode_threshold\n",
    "        mode_change_points = np.where(mode_changes)[0] + (window_size - 1)\n",
    "\n",
    "\n",
    "        return median_change_points, median_moving_avg, median_threshold, np.array(median), mode_change_points, mode_moving_avg, mode_threshold, np.array(mode)\n",
    "\n",
    "    # Example usage\n",
    "    noised = data_pd['tablets'] / data_pd['interval'] * data_pd['dose']\n",
    "    #noised = np.diff(noised)\n",
    "    noised = noised.astype(float)\n",
    "    dates = pd.to_datetime(data_pd['date'])\n",
    "    dates = dates[0:(len(dates) - 1)]\n",
    "    window_size = 9\n",
    "    sd_fraction = 1.6\n",
    "\n",
    "    median_change_points, median_moving_avg, median_threshold, median, mode_change_points, mode_moving_avg, mode_threshold, mode = detect_changes(noised, window_size=window_size, sd_fraction=sd_fraction)\n",
    "\n",
    "    median_change_point_dates = dates[median_change_points]\n",
    "    mode_change_point_dates = dates[mode_change_points]\n",
    "\n",
    "    print(f\"Detected change median points dates: {median_change_point_dates.tolist()}\")\n",
    "    print(f\"Detected change mode points dates: {mode_change_point_dates.tolist()}\")\n",
    "    print(f\"Calculated median threshold: {median_threshold:.2f}\")\n",
    "    print(f\"Calculated mode threshold: {mode_threshold:.2f}\")\n",
    "\n",
    "    # Plot the results\n",
    "    plt.figure(figsize=(12, 6))\n",
    "    #plt.plot(dates, noised, label='Noised data', marker='o')\n",
    "    #plt.plot(theory, label='Theory', linestyle='--')\n",
    "    plt.plot(dates, median, label='Median data', marker='o')\n",
    "    plt.plot(dates, mode, label='Mode data', marker='o')\n",
    "\n",
    "    # Adjust x-coordinates for moving average plot\n",
    "    x_moving_avg = np.arange(window_size - 1, len(noised))\n",
    "    plt.plot(dates[window_size - 1:len(dates)], median_moving_avg, label='Median Moving Average', color='green')\n",
    "    plt.plot(dates[window_size - 1:len(dates)], mode_moving_avg, label='Mode Moving Average', color='lightgreen')\n",
    "\n",
    "    # Adjust x-coordinates for change points\n",
    "    #x_change_points = change_points - (window_size // 2)\n",
    "    plt.scatter(dates[median_change_points], median[median_change_points], color='red', label='Median change points', zorder=5)\n",
    "    plt.scatter(dates[mode_change_points], mode[mode_change_points], color='magenta', label='Mode change points', zorder=5)\n",
    "\n",
    "    # Plot threshold bands\n",
    "    plt.fill_between(dates[window_size - 1:len(dates)],\n",
    "                     median_moving_avg - median_threshold,\n",
    "                     median_moving_avg + median_threshold,\n",
    "                     color='gray', alpha=0.2, label='Median threshold band')\n",
    "    plt.fill_between(dates[window_size - 1:len(dates)],\n",
    "                     mode_moving_avg - mode_threshold,\n",
    "                     mode_moving_avg + mode_threshold,\n",
    "                     alpha=0.2, label='Mode threshold band')\n",
    "\n",
    "    plt.legend()\n",
    "    plt.title(f'Change Point Detection for {tid} (Window: {window_size}, SD Fraction: {sd_fraction})')\n",
    "    plt.xlabel('Time')\n",
    "    plt.ylabel('Value')\n",
    "    plt.grid(True, linestyle=':', alpha=0.7)\n",
    "\n",
    "    intervals(tid, data_pd, dates[[x - 4 for x in median_change_points]], dates[[x - 4 for x in mode_change_points]])\n",
    "\n",
    "    plt.show()"
   ]
  },
  {
   "cell_type": "code",
   "execution_count": null,
   "id": "47",
   "metadata": {
    "tags": []
   },
   "outputs": [],
   "source": [
    "df.count()"
   ]
  },
  {
   "cell_type": "code",
   "execution_count": null,
   "id": "48",
   "metadata": {
    "tags": []
   },
   "outputs": [],
   "source": [
    "num_therapies = df.select('therapy_id').key_by('therapy_id').distinct().count()"
   ]
  },
  {
   "cell_type": "code",
   "execution_count": null,
   "id": "49",
   "metadata": {
    "tags": []
   },
   "outputs": [],
   "source": [
    "schema = hl.tstruct(\n",
    "    date=hl.tstr,\n",
    "    therapy_id=hl.tint64,\n",
    "    dose=hl.tint32,\n",
    "    tablets=hl.tint32,\n",
    "    eid=hl.tstr,\n",
    "    num_prescriptions=hl.tint32,\n",
    "    duration=hl.tint32,\n",
    "    drug_name=hl.tstr,\n",
    "    interval=hl.tint32,\n",
    "    brand_name=hl.tstr,\n",
    "    source=hl.tstr,\n",
    "    code=hl.tstr,\n",
    "    system=hl.tstr,\n",
    "    info=hl.tstr,\n",
    "    ratio=hl.tfloat64,\n",
    "    change_flag=hl.tint32\n",
    ")\n",
    "new_df = hl.Table.parallelize([], schema)"
   ]
  },
  {
   "cell_type": "code",
   "execution_count": null,
   "id": "50",
   "metadata": {
    "tags": []
   },
   "outputs": [],
   "source": [
    "def find_change_points(data_pd):\n",
    "    if len(data_pd) <= 9:\n",
    "        return []\n",
    "\n",
    "    def detect_changes(data, window_size=3, sd_fraction=1.5):\n",
    "        median = []\n",
    "        for x in range(window_size- 1):\n",
    "            median.append(data.iloc[x])\n",
    "        \n",
    "        for x in range(len(data) - window_size + 1):\n",
    "            window_median = np.median(data.iloc[x:(x + window_size)])\n",
    "            median.append(window_median)\n",
    "        \n",
    "        median = np.diff(median)\n",
    "        \n",
    "        median_moving_avg = np.convolve(median, np.ones(window_size)/window_size, mode='valid')\n",
    "        median_sd = np.std(median)\n",
    "        \n",
    "        median_threshold = sd_fraction * median_sd\n",
    "\n",
    "        median_changes = np.abs(median[window_size-1:] - median_moving_avg) > median_threshold\n",
    "        median_change_points = np.where(median_changes)[0] + (window_size - 1)\n",
    "\n",
    "        return median_change_points, median_moving_avg, median_threshold, np.array(median)\n",
    "\n",
    "    noised = data_pd['tablets'] / data_pd['interval'] * data_pd['dose']\n",
    "    noised = noised.astype(float)\n",
    "    dates = data_pd['date']\n",
    "    dates = dates[0:(len(dates) - 1)]\n",
    "    window_size = 9\n",
    "    sd_fraction = 1.6\n",
    "\n",
    "    median_change_points, median_moving_avg, median_threshold, median= detect_changes(noised, window_size=window_size, sd_fraction=sd_fraction)\n",
    "\n",
    "    median_change_point_dates = dates.iloc[median_change_points]\n",
    "    \n",
    "    return dates.iloc[[x - 4 for x in median_change_points]]"
   ]
  },
  {
   "cell_type": "code",
   "execution_count": null,
   "id": "51",
   "metadata": {
    "tags": []
   },
   "outputs": [],
   "source": [
    "lowest_free_therapy_number = num_therapies + 1"
   ]
  },
  {
   "cell_type": "code",
   "execution_count": null,
   "id": "52",
   "metadata": {
    "tags": []
   },
   "outputs": [],
   "source": [
    "results = []"
   ]
  },
  {
   "cell_type": "code",
   "execution_count": null,
   "id": "53",
   "metadata": {
    "jupyter": {
     "outputs_hidden": true
    },
    "tags": []
   },
   "outputs": [],
   "source": [
    "for range_start in range(1, num_therapies + 1, 10000):\n",
    "    range_end = min(range_start + 9999, num_therapies)\n",
    "    data_chunk_hl = df.filter((df.therapy_id >= range_start) & (df.therapy_id <= range_end))\n",
    "    data_chunk = data_chunk_hl.to_pandas()\n",
    "    for i in range(range_start, range_end + 1):\n",
    "        data = data_chunk[data_chunk['therapy_id'] == i]\n",
    "        dates = pd.to_datetime(find_change_points(data))\n",
    "        if not dates.empty: \n",
    "            for date in dates:\n",
    "                results.append({'therapy_id': i, 'date': date})"
   ]
  },
  {
   "cell_type": "code",
   "execution_count": null,
   "id": "54",
   "metadata": {
    "tags": []
   },
   "outputs": [],
   "source": [
    "for entry in results:\n",
    "    entry['date'] = entry['date'].strftime('%Y-%m-%d')\n",
    "    "
   ]
  },
  {
   "cell_type": "code",
   "execution_count": null,
   "id": "55",
   "metadata": {
    "tags": []
   },
   "outputs": [],
   "source": [
    "results_set = hl.literal({(record['therapy_id'], record['date']) for record in results})"
   ]
  },
  {
   "cell_type": "code",
   "execution_count": null,
   "id": "56",
   "metadata": {
    "tags": []
   },
   "outputs": [],
   "source": [
    "df = df.annotate(\n",
    "    is_change = results_set.contains((hl.int32(df.therapy_id), hl.str(df.date)))\n",
    ")"
   ]
  },
  {
   "cell_type": "code",
   "execution_count": null,
   "id": "57",
   "metadata": {
    "tags": []
   },
   "outputs": [],
   "source": [
    "df.filter(df.is_change).count()"
   ]
  },
  {
   "cell_type": "code",
   "execution_count": null,
   "id": "58",
   "metadata": {
    "tags": []
   },
   "outputs": [],
   "source": [
    "len(results)"
   ]
  },
  {
   "cell_type": "code",
   "execution_count": null,
   "id": "59",
   "metadata": {
    "tags": []
   },
   "outputs": [],
   "source": [
    "df.describe()"
   ]
  },
  {
   "cell_type": "code",
   "execution_count": null,
   "id": "60",
   "metadata": {
    "tags": []
   },
   "outputs": [],
   "source": [
    "drug_struct = hl.struct(\n",
    "    year=hl.int(df.date.split('-')[0]), \n",
    "    month=hl.int(df.date.split('-')[1]), \n",
    "    day=hl.int(df.date.split('-')[2]), \n",
    "    drug_name=df.drug_name,\n",
    "    brand_name=df.brand_name,\n",
    "    source=df.source,\n",
    "    code=df.code,\n",
    "    date=df.date,\n",
    "    system=df.system,\n",
    "    info=df.info,\n",
    "    dose=df.dose,\n",
    "    tablets=df.tablets,\n",
    "    eid=df.eid,\n",
    "    interval=df.interval,\n",
    "    ratio=df.ratio,\n",
    "    is_change=df.is_change\n",
    ")"
   ]
  },
  {
   "cell_type": "code",
   "execution_count": null,
   "id": "61",
   "metadata": {
    "tags": []
   },
   "outputs": [],
   "source": [
    "aggregated_df = df.group_by(df.therapy_id).aggregate(\n",
    "    medicines=hl.agg.collect(drug_struct)\n",
    ")\n",
    "aggregated_df.describe()"
   ]
  },
  {
   "cell_type": "code",
   "execution_count": null,
   "id": "62",
   "metadata": {
    "tags": []
   },
   "outputs": [],
   "source": [
    "aggregated_df = aggregated_df.annotate(\n",
    "    medicines=hl.sorted(\n",
    "        aggregated_df.medicines, \n",
    "        key=lambda x: (x.year, x.month, x.day)\n",
    "    )\n",
    ")"
   ]
  },
  {
   "cell_type": "code",
   "execution_count": null,
   "id": "63",
   "metadata": {
    "tags": []
   },
   "outputs": [],
   "source": [
    "aggregated_df=aggregated_df.explode(aggregated_df.medicines)"
   ]
  },
  {
   "cell_type": "code",
   "execution_count": null,
   "id": "64",
   "metadata": {
    "tags": []
   },
   "outputs": [],
   "source": [
    "aggregated_df = aggregated_df.annotate(\n",
    "    segment=hl.scan.count_where(\n",
    "        (aggregated_df.medicines.is_change==True)\n",
    "))"
   ]
  },
  {
   "cell_type": "code",
   "execution_count": null,
   "id": "65",
   "metadata": {
    "tags": []
   },
   "outputs": [],
   "source": [
    "aggregated_df=aggregated_df.group_by('therapy_id','segment').aggregate(medicines=hl.agg.collect(aggregated_df.medicines))"
   ]
  },
  {
   "cell_type": "code",
   "execution_count": null,
   "id": "66",
   "metadata": {
    "tags": []
   },
   "outputs": [],
   "source": [
    "aggregated_df=aggregated_df.add_index('tid')\n",
    "aggregated_df=aggregated_df.key_by('tid')\n",
    "aggregated_df=aggregated_df.drop('therapy_id').drop('segment')"
   ]
  },
  {
   "cell_type": "code",
   "execution_count": null,
   "id": "67",
   "metadata": {
    "tags": []
   },
   "outputs": [],
   "source": [
    "aggregated_df=aggregated_df.annotate(\n",
    "    num_prescriptions=hl.len(aggregated_df.medicines)\n",
    ")"
   ]
  },
  {
   "cell_type": "code",
   "execution_count": null,
   "id": "68",
   "metadata": {
    "tags": []
   },
   "outputs": [],
   "source": [
    "aggregated_df = aggregated_df.annotate(\n",
    "    medicines=hl.enumerate(aggregated_df.medicines)\n",
    ")"
   ]
  },
  {
   "cell_type": "code",
   "execution_count": null,
   "id": "69",
   "metadata": {
    "tags": []
   },
   "outputs": [],
   "source": [
    "def add_is_last_flag(med_tuple, num_prescriptions):\n",
    "    idx, struct = med_tuple\n",
    "    is_last = hl.if_else(idx == num_prescriptions - 1, 1, 0)\n",
    "    return hl.struct(\n",
    "        year=struct.year,\n",
    "        month=struct.month,\n",
    "        day=struct.day,\n",
    "        drug_name=struct.drug_name,\n",
    "        brand_name=struct.brand_name,\n",
    "        source=struct.source,\n",
    "        code=struct.code,\n",
    "        date=struct.date,\n",
    "        system=struct.system,\n",
    "        info=struct.info,\n",
    "        dose=struct.dose,\n",
    "        tablets=struct.tablets,\n",
    "        eid=struct.eid,\n",
    "        interval=struct.interval,\n",
    "        ratio=struct.ratio,\n",
    "        is_change=struct.is_change,\n",
    "        is_last=is_last\n",
    "    )\n",
    "\n",
    "aggregated_df = aggregated_df.annotate(\n",
    "    medicines=hl.map(lambda med: add_is_last_flag(med, aggregated_df.num_prescriptions), aggregated_df.medicines)\n",
    ")"
   ]
  },
  {
   "cell_type": "code",
   "execution_count": null,
   "id": "70",
   "metadata": {
    "tags": []
   },
   "outputs": [],
   "source": [
    "def days_between_dates(date1, date2):\n",
    "    def is_leap_year(year):\n",
    "        return (year % 4 == 0) & ((year % 100 != 0) | (year % 400 == 0))\n",
    "\n",
    "    def days_in_month(year, month):\n",
    "        days_in_month = hl.array([31, 28 + is_leap_year(year), 31, 30, 31, 30, 31, 31, 30, 31, 30, 31])\n",
    "        return days_in_month[month - 1]\n",
    "\n",
    "    def days_since_epoch(date):\n",
    "        year = date.year\n",
    "        month = date.month\n",
    "        day = date.day\n",
    "\n",
    "        days = day - 1\n",
    "        days += hl.sum(hl.range(0, month - 1).map(lambda m: days_in_month(year, m + 1)))\n",
    "\n",
    "        days += hl.sum(hl.range(1970, year).map(lambda y: 365 + is_leap_year(y)))\n",
    "\n",
    "        return days\n",
    "\n",
    "    days1 = days_since_epoch(date1)\n",
    "    days2 = days_since_epoch(date2)\n",
    "\n",
    "    return days2 - days1"
   ]
  },
  {
   "cell_type": "code",
   "execution_count": null,
   "id": "71",
   "metadata": {
    "tags": []
   },
   "outputs": [],
   "source": [
    "aggregated_df=aggregated_df.annotate(\n",
    "    duration=days_between_dates(aggregated_df.medicines[0], aggregated_df.medicines[aggregated_df.num_prescriptions - 1])\n",
    ")"
   ]
  },
  {
   "cell_type": "code",
   "execution_count": null,
   "id": "72",
   "metadata": {
    "tags": []
   },
   "outputs": [],
   "source": [
    "aggregated_df=aggregated_df.explode(aggregated_df.medicines)"
   ]
  },
  {
   "cell_type": "code",
   "execution_count": null,
   "id": "73",
   "metadata": {
    "tags": []
   },
   "outputs": [],
   "source": [
    "def modify_interval_if_last(med_struct):\n",
    "    new_interval = hl.if_else(med_struct.is_last == 1, -1, med_struct.interval)\n",
    "    \n",
    "    return med_struct.annotate(interval=new_interval)\n",
    "\n",
    "aggregated_df = aggregated_df.annotate(\n",
    "    medicines=modify_interval_if_last(aggregated_df.medicines)\n",
    ")"
   ]
  },
  {
   "cell_type": "code",
   "execution_count": null,
   "id": "74",
   "metadata": {
    "tags": []
   },
   "outputs": [],
   "source": [
    "aggregated_df = aggregated_df.transmute(\n",
    "    year=aggregated_df.medicines.year,\n",
    "    month=aggregated_df.medicines.month,\n",
    "    day=aggregated_df.medicines.day,\n",
    "    drug_name=aggregated_df.medicines.drug_name,\n",
    "    brand_name=aggregated_df.medicines.brand_name,\n",
    "    source=aggregated_df.medicines.source,\n",
    "    code=aggregated_df.medicines.code,\n",
    "    date=aggregated_df.medicines.date,\n",
    "    system=aggregated_df.medicines.system,\n",
    "    info=aggregated_df.medicines.info,\n",
    "    dose=aggregated_df.medicines.dose,\n",
    "    tablets=aggregated_df.medicines.tablets,\n",
    "    eid=aggregated_df.medicines.eid,\n",
    "    interval=aggregated_df.medicines.interval,\n",
    "    ratio=aggregated_df.medicines.ratio,\n",
    "    is_change=aggregated_df.medicines.is_change,\n",
    "    is_last=aggregated_df.medicines.is_last\n",
    ")"
   ]
  },
  {
   "cell_type": "code",
   "execution_count": null,
   "id": "75",
   "metadata": {
    "tags": []
   },
   "outputs": [],
   "source": [
    "num_intervals_equal_minus_1 = aggregated_df.aggregate(\n",
    "    hl.agg.count_where(aggregated_df.interval == -1)\n",
    ")"
   ]
  },
  {
   "cell_type": "code",
   "execution_count": null,
   "id": "76",
   "metadata": {
    "tags": []
   },
   "outputs": [],
   "source": [
    "num_intervals_equal_minus_1"
   ]
  },
  {
   "cell_type": "code",
   "execution_count": null,
   "id": "77",
   "metadata": {
    "tags": []
   },
   "outputs": [],
   "source": [
    "aggregated_df = aggregated_df.annotate(\n",
    "    interval=hl.if_else(aggregated_df.interval == -1, aggregated_df.tablets, aggregated_df.interval)\n",
    ")"
   ]
  },
  {
   "cell_type": "code",
   "execution_count": null,
   "id": "78",
   "metadata": {
    "tags": []
   },
   "outputs": [],
   "source": [
    "aggregated_df=aggregated_df.drop('is_change')\n",
    "aggregated_df=aggregated_df.drop('is_last')\n",
    "aggregated_df=aggregated_df.drop('ratio')"
   ]
  },
  {
   "cell_type": "code",
   "execution_count": null,
   "id": "79",
   "metadata": {
    "tags": []
   },
   "outputs": [],
   "source": [
    "aggregated_df.aggregate(hl.len(hl.agg.collect_as_set(aggregated_df.tid)))"
   ]
  },
  {
   "cell_type": "code",
   "execution_count": null,
   "id": "80",
   "metadata": {
    "tags": []
   },
   "outputs": [],
   "source": [
    "db_name = \"mdd_db\"\n",
    "full_tb_name = \"therapies.ht\"\n",
    "\n",
    "stmt = f\"CREATE DATABASE IF NOT EXISTS {db_name} LOCATION 'dnax://'\"\n",
    "print(stmt)\n",
    "\n",
    "spark.sql(stmt).show()"
   ]
  },
  {
   "cell_type": "code",
   "execution_count": null,
   "id": "81",
   "metadata": {
    "tags": []
   },
   "outputs": [],
   "source": [
    "db_uri = dxpy.find_one_data_object(name=f\"{db_name}\", classname=\"database\")['id']\n",
    "url = f\"dnax://{db_uri}/{full_tb_name}\""
   ]
  },
  {
   "cell_type": "code",
   "execution_count": null,
   "id": "82",
   "metadata": {
    "tags": []
   },
   "outputs": [],
   "source": [
    "aggregated_df.write(url, overwrite=True)"
   ]
  },
  {
   "cell_type": "code",
   "execution_count": null,
   "id": "83",
   "metadata": {},
   "outputs": [],
   "source": []
  }
 ],
 "metadata": {
  "kernelspec": {
   "display_name": "Python 3 (ipykernel)",
   "language": "python",
   "name": "python3"
  },
  "language_info": {
   "codemirror_mode": {
    "name": "ipython",
    "version": 3
   },
   "file_extension": ".py",
   "mimetype": "text/x-python",
   "name": "python",
   "nbconvert_exporter": "python",
   "pygments_lexer": "ipython3",
   "version": "3.9.16"
  }
 },
 "nbformat": 4,
 "nbformat_minor": 5
}
