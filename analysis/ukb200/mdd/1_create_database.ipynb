{
 "cells": [
  {
   "cell_type": "code",
   "execution_count": null,
   "id": "0",
   "metadata": {
    "tags": []
   },
   "outputs": [],
   "source": [
    "import pyspark\n",
    "import pandas as pd\n",
    "import dxpy\n",
    "import dxdata\n",
    "import json\n",
    "import numpy as np\n",
    "from bokeh.io import show, output_notebook\n",
    "from bokeh.layouts import gridplot\n",
    "import random\n",
    "output_notebook()"
   ]
  },
  {
   "cell_type": "code",
   "execution_count": null,
   "id": "1",
   "metadata": {
    "jupyter": {
     "outputs_hidden": true
    },
    "tags": []
   },
   "outputs": [],
   "source": [
    "sc = pyspark.SparkContext()\n",
    "spark = pyspark.sql.SparkSession(sc)"
   ]
  },
  {
   "cell_type": "code",
   "execution_count": null,
   "id": "2",
   "metadata": {
    "jupyter": {
     "outputs_hidden": true
    },
    "tags": []
   },
   "outputs": [],
   "source": [
    "import hail as hl\n",
    "hl.init(sc=sc, default_reference='GRCh38')\n",
    "db_name = \"base_drug_phenos\"\n",
    "db_uri = dxpy.find_one_data_object(name=f\"{db_name}\", classname=\"database\")['id']\n",
    "url = f\"dnax://{db_uri}/base.ht\"\n",
    "full = hl.read_table(url)"
   ]
  },
  {
   "cell_type": "code",
   "execution_count": null,
   "id": "3",
   "metadata": {
    "tags": []
   },
   "outputs": [],
   "source": [
    "bnf_brand_df = pd.read_csv('../data/bnf_brand.csv')"
   ]
  },
  {
   "cell_type": "code",
   "execution_count": null,
   "id": "4",
   "metadata": {
    "tags": []
   },
   "outputs": [],
   "source": [
    "bnf_df_1 = full.filter(hl.literal(bnf_brand_df['Converted_BNF_Code'].tolist()).contains(full['code']))"
   ]
  },
  {
   "cell_type": "code",
   "execution_count": null,
   "id": "5",
   "metadata": {
    "tags": []
   },
   "outputs": [],
   "source": [
    "brand_names_list = bnf_brand_df['Brand_Name'].tolist()"
   ]
  },
  {
   "cell_type": "code",
   "execution_count": null,
   "id": "6",
   "metadata": {
    "tags": []
   },
   "outputs": [],
   "source": [
    "bnf_df_1 = bnf_df_1.filter(hl.any(lambda substring: bnf_df_1['info'].contains(substring), hl.literal(brand_names_list)))"
   ]
  },
  {
   "cell_type": "code",
   "execution_count": null,
   "id": "7",
   "metadata": {
    "tags": []
   },
   "outputs": [],
   "source": [
    "bnf_df_1.count()"
   ]
  },
  {
   "cell_type": "code",
   "execution_count": null,
   "id": "8",
   "metadata": {
    "tags": []
   },
   "outputs": [],
   "source": [
    "bnf_df_1 = bnf_df_1.key_by(*bnf_df_1.row)"
   ]
  },
  {
   "cell_type": "code",
   "execution_count": null,
   "id": "9",
   "metadata": {
    "tags": []
   },
   "outputs": [],
   "source": [
    "bnf_df_2 = full.filter(hl.literal(bnf_brand_df['BNF_Presentation_Code'].tolist()).contains(full['code']))"
   ]
  },
  {
   "cell_type": "code",
   "execution_count": null,
   "id": "10",
   "metadata": {
    "tags": []
   },
   "outputs": [],
   "source": [
    "bnf_df_2.count()"
   ]
  },
  {
   "cell_type": "code",
   "execution_count": null,
   "id": "11",
   "metadata": {
    "tags": []
   },
   "outputs": [],
   "source": [
    "bnf_df_2 = bnf_df_2.key_by(*bnf_df_2.row)"
   ]
  },
  {
   "cell_type": "code",
   "execution_count": null,
   "id": "12",
   "metadata": {
    "tags": []
   },
   "outputs": [],
   "source": [
    "bnf_df = bnf_df_1.union(bnf_df_2).distinct()"
   ]
  },
  {
   "cell_type": "code",
   "execution_count": null,
   "id": "13",
   "metadata": {},
   "outputs": [],
   "source": [
    "bnf_df = bnf_df.checkpoint()"
   ]
  },
  {
   "cell_type": "code",
   "execution_count": null,
   "id": "14",
   "metadata": {
    "tags": []
   },
   "outputs": [],
   "source": [
    "bnf_df.count()"
   ]
  },
  {
   "cell_type": "code",
   "execution_count": null,
   "id": "15",
   "metadata": {
    "tags": []
   },
   "outputs": [],
   "source": [
    "brand_names_list = list(set(bnf_brand_df['Brand_Name']))"
   ]
  },
  {
   "cell_type": "code",
   "execution_count": null,
   "id": "16",
   "metadata": {
    "tags": []
   },
   "outputs": [],
   "source": [
    "if isinstance(bnf_brand_df, pd.DataFrame):\n",
    "    bnf_brand_df = hl.Table.from_pandas(bnf_brand_df)"
   ]
  },
  {
   "cell_type": "code",
   "execution_count": null,
   "id": "17",
   "metadata": {
    "tags": []
   },
   "outputs": [],
   "source": [
    "bnf_brand_df = bnf_brand_df.key_by('Brand_Name')\n",
    "bnf_brand_df = bnf_brand_df.distinct()"
   ]
  },
  {
   "cell_type": "code",
   "execution_count": null,
   "id": "18",
   "metadata": {
    "tags": []
   },
   "outputs": [],
   "source": [
    "def case_insensitive_contains(string, substring):\n",
    "    return string.lower().contains(substring.lower())\n",
    "def get_drug_name(info, brand_names):\n",
    "    return hl.find(lambda substring: case_insensitive_contains(info, substring), hl.literal(brand_names))"
   ]
  },
  {
   "cell_type": "code",
   "execution_count": null,
   "id": "19",
   "metadata": {
    "tags": []
   },
   "outputs": [],
   "source": [
    "bnf_df = bnf_df.annotate(\n",
    "    drug_name=get_drug_name(bnf_df['info'], brand_names_list)\n",
    ")"
   ]
  },
  {
   "cell_type": "code",
   "execution_count": null,
   "id": "20",
   "metadata": {
    "tags": []
   },
   "outputs": [],
   "source": [
    "bnf_df = bnf_df.key_by('drug_name').join(bnf_brand_df.key_by('Brand_Name'), how='left')"
   ]
  },
  {
   "cell_type": "code",
   "execution_count": null,
   "id": "21",
   "metadata": {
    "tags": []
   },
   "outputs": [],
   "source": [
    "bnf_cols = ['drug_name', 'eid', 'source', 'code', 'date', 'system', 'info', 'Term']\n",
    "bnf_df = bnf_df.key_by().select(*bnf_cols)\n",
    "new_bnf_cols = {'drug_name':'brand_name', 'eid':'eid', 'source':'source', 'code':'code', 'date':'date', 'system':'system', 'info':'info', 'Term':'term'}\n",
    "bnf_df = bnf_df.rename(new_bnf_cols)"
   ]
  },
  {
   "cell_type": "code",
   "execution_count": null,
   "id": "22",
   "metadata": {
    "tags": []
   },
   "outputs": [],
   "source": [
    "bnf_df.describe()"
   ]
  },
  {
   "cell_type": "code",
   "execution_count": null,
   "id": "23",
   "metadata": {
    "tags": []
   },
   "outputs": [],
   "source": [
    "bnf_df = bnf_df.filter(hl.is_defined(bnf_df['term']))"
   ]
  },
  {
   "cell_type": "code",
   "execution_count": null,
   "id": "24",
   "metadata": {
    "tags": []
   },
   "outputs": [],
   "source": [
    "bnf_df = bnf_df.checkpoint()"
   ]
  },
  {
   "cell_type": "code",
   "execution_count": null,
   "id": "25",
   "metadata": {
    "tags": []
   },
   "outputs": [],
   "source": [
    "read_2_brand_df = pd.read_csv('../data/read_name_drug.csv')"
   ]
  },
  {
   "cell_type": "code",
   "execution_count": null,
   "id": "26",
   "metadata": {
    "tags": []
   },
   "outputs": [],
   "source": [
    "read_2_df = full.filter(hl.literal(read_2_brand_df['read_code'].tolist()).contains(full['code']) & (full['system'] == 'read_2') )"
   ]
  },
  {
   "cell_type": "code",
   "execution_count": null,
   "id": "27",
   "metadata": {
    "tags": []
   },
   "outputs": [],
   "source": [
    "read_2_df.count()"
   ]
  },
  {
   "cell_type": "code",
   "execution_count": null,
   "id": "28",
   "metadata": {
    "tags": []
   },
   "outputs": [],
   "source": [
    "read_3_brand_df = pd.read_csv('../data/ctv3_drug.csv')"
   ]
  },
  {
   "cell_type": "code",
   "execution_count": null,
   "id": "29",
   "metadata": {
    "tags": []
   },
   "outputs": [],
   "source": [
    "read_3_df = full.filter(hl.literal(read_3_brand_df['read_code'].tolist()).contains(full['code']) & (full['system'] == 'read_3') )"
   ]
  },
  {
   "cell_type": "code",
   "execution_count": null,
   "id": "30",
   "metadata": {
    "tags": []
   },
   "outputs": [],
   "source": [
    "read_3_df.count()"
   ]
  },
  {
   "cell_type": "code",
   "execution_count": null,
   "id": "31",
   "metadata": {
    "tags": []
   },
   "outputs": [],
   "source": [
    "if isinstance(read_2_brand_df, pd.DataFrame):\n",
    "    read_2_brand_df = hl.Table.from_pandas(read_2_brand_df)"
   ]
  },
  {
   "cell_type": "code",
   "execution_count": null,
   "id": "32",
   "metadata": {
    "tags": []
   },
   "outputs": [],
   "source": [
    "if isinstance(read_3_brand_df, pd.DataFrame):\n",
    "    read_3_brand_df = hl.Table.from_pandas(read_3_brand_df)"
   ]
  },
  {
   "cell_type": "code",
   "execution_count": null,
   "id": "33",
   "metadata": {
    "tags": []
   },
   "outputs": [],
   "source": [
    "read_2_df = read_2_df.key_by('code').join(read_2_brand_df.key_by('read_code'))\n",
    "read_3_df = read_3_df.key_by('code').join(read_3_brand_df.key_by('read_code'))"
   ]
  },
  {
   "cell_type": "code",
   "execution_count": null,
   "id": "34",
   "metadata": {
    "tags": []
   },
   "outputs": [],
   "source": [
    "read_cols = ['brand_name', 'eid', 'source', 'code', 'date', 'system', 'info', 'term']"
   ]
  },
  {
   "cell_type": "code",
   "execution_count": null,
   "id": "35",
   "metadata": {
    "tags": []
   },
   "outputs": [],
   "source": [
    "read_2_df = read_2_df.key_by().select(*read_cols)\n",
    "read_3_df = read_3_df.key_by().select(*read_cols)"
   ]
  },
  {
   "cell_type": "code",
   "execution_count": null,
   "id": "36",
   "metadata": {
    "tags": []
   },
   "outputs": [],
   "source": [
    "read_df = read_2_df.union(read_3_df)"
   ]
  },
  {
   "cell_type": "code",
   "execution_count": null,
   "id": "37",
   "metadata": {
    "tags": []
   },
   "outputs": [],
   "source": [
    "read_df = read_df.filter(hl.is_defined(read_df['term']))"
   ]
  },
  {
   "cell_type": "code",
   "execution_count": null,
   "id": "38",
   "metadata": {},
   "outputs": [],
   "source": [
    "read_df = read_df.checkpoint()"
   ]
  },
  {
   "cell_type": "code",
   "execution_count": null,
   "id": "39",
   "metadata": {
    "tags": []
   },
   "outputs": [],
   "source": [
    "read_df.count()"
   ]
  },
  {
   "cell_type": "code",
   "execution_count": null,
   "id": "40",
   "metadata": {
    "tags": []
   },
   "outputs": [],
   "source": [
    "dmd_brand_df = pd.read_csv('../data/dmd_name.csv')\n",
    "\n",
    "if isinstance(dmd_brand_df, pd.DataFrame):\n",
    "    dmd_brand_df = hl.Table.from_pandas(dmd_brand_df)\n",
    "\n",
    "dmd_brand_df = dmd_brand_df.annotate(dmd_code=hl.str(dmd_brand_df['dmd_code']))"
   ]
  },
  {
   "cell_type": "code",
   "execution_count": null,
   "id": "41",
   "metadata": {
    "tags": []
   },
   "outputs": [],
   "source": [
    "dmd_code_list = dmd_brand_df.aggregate(hl.agg.collect(dmd_brand_df.dmd_code))\n",
    "dmd_code_list_lower = [code.lower() for code in dmd_code_list]\n",
    "dmd_df = full.filter(hl.literal(dmd_code_list_lower).contains(full['code'].lower()))"
   ]
  },
  {
   "cell_type": "code",
   "execution_count": null,
   "id": "42",
   "metadata": {
    "tags": []
   },
   "outputs": [],
   "source": [
    "dmd_df = dmd_df.key_by('code').join(dmd_brand_df.key_by('dmd_code'))"
   ]
  },
  {
   "cell_type": "code",
   "execution_count": null,
   "id": "43",
   "metadata": {
    "tags": []
   },
   "outputs": [],
   "source": [
    "dmd_cols = ['brand_name', 'eid', 'source', 'code', 'date', 'system', 'info', 'term']\n",
    "dmd_df = dmd_df.key_by().select(*dmd_cols)"
   ]
  },
  {
   "cell_type": "code",
   "execution_count": null,
   "id": "44",
   "metadata": {
    "tags": []
   },
   "outputs": [],
   "source": [
    "dmd_df = dmd_df.filter(hl.is_defined(dmd_df['term']))"
   ]
  },
  {
   "cell_type": "code",
   "execution_count": null,
   "id": "45",
   "metadata": {
    "tags": []
   },
   "outputs": [],
   "source": [
    "dmd_df.count()"
   ]
  },
  {
   "cell_type": "code",
   "execution_count": null,
   "id": "46",
   "metadata": {
    "tags": []
   },
   "outputs": [],
   "source": [
    "all_df = bnf_df.union(read_df)"
   ]
  },
  {
   "cell_type": "code",
   "execution_count": null,
   "id": "47",
   "metadata": {
    "tags": []
   },
   "outputs": [],
   "source": [
    "all_df = all_df.union(dmd_df)"
   ]
  },
  {
   "cell_type": "code",
   "execution_count": null,
   "id": "48",
   "metadata": {
    "tags": []
   },
   "outputs": [],
   "source": [
    "all_df.count()"
   ]
  },
  {
   "cell_type": "code",
   "execution_count": null,
   "id": "49",
   "metadata": {
    "tags": []
   },
   "outputs": [],
   "source": [
    "all_df.describe()"
   ]
  },
  {
   "cell_type": "code",
   "execution_count": null,
   "id": "50",
   "metadata": {
    "tags": []
   },
   "outputs": [],
   "source": [
    "all_df.group_by('term').aggregate(count=hl.agg.count()).show(100)"
   ]
  },
  {
   "cell_type": "code",
   "execution_count": null,
   "id": "51",
   "metadata": {
    "tags": []
   },
   "outputs": [],
   "source": [
    "all_df.filter(hl.is_missing(all_df['term'])).count()"
   ]
  },
  {
   "cell_type": "code",
   "execution_count": null,
   "id": "52",
   "metadata": {
    "tags": []
   },
   "outputs": [],
   "source": [
    "test_df = all_df.sample(0.0005, seed=42)"
   ]
  },
  {
   "cell_type": "code",
   "execution_count": null,
   "id": "53",
   "metadata": {
    "tags": []
   },
   "outputs": [],
   "source": [
    "test_df.count()"
   ]
  },
  {
   "cell_type": "code",
   "execution_count": null,
   "id": "54",
   "metadata": {
    "tags": []
   },
   "outputs": [],
   "source": [
    "db_name = \"mdd_db\"\n",
    "test_tb_name = \"test_all_presc.ht\"\n",
    "full_tb_name = \"all_presc.ht\"\n",
    "\n",
    "stmt = f\"CREATE DATABASE IF NOT EXISTS {db_name} LOCATION 'dnax://'\"\n",
    "print(stmt)\n",
    "\n",
    "spark.sql(stmt).show()"
   ]
  },
  {
   "cell_type": "code",
   "execution_count": null,
   "id": "55",
   "metadata": {
    "tags": []
   },
   "outputs": [],
   "source": [
    "db_uri = dxpy.find_one_data_object(name=f\"{db_name}\", classname=\"database\")['id']\n",
    "url1 = f\"dnax://{db_uri}/{test_tb_name}\"\n",
    "url2 = f\"dnax://{db_uri}/{full_tb_name}\""
   ]
  },
  {
   "cell_type": "code",
   "execution_count": null,
   "id": "56",
   "metadata": {
    "tags": []
   },
   "outputs": [],
   "source": [
    "test_df.write(url1, overwrite=True)"
   ]
  },
  {
   "cell_type": "code",
   "execution_count": null,
   "id": "57",
   "metadata": {
    "tags": []
   },
   "outputs": [],
   "source": [
    "all_df.write(url2, overwrite=True)"
   ]
  }
 ],
 "metadata": {
  "kernelspec": {
   "display_name": "Python 3 (ipykernel)",
   "language": "python",
   "name": "python3"
  },
  "language_info": {
   "codemirror_mode": {
    "name": "ipython",
    "version": 3
   },
   "file_extension": ".py",
   "mimetype": "text/x-python",
   "name": "python",
   "nbconvert_exporter": "python",
   "pygments_lexer": "ipython3",
   "version": "3.9.16"
  },
  "toc-autonumbering": false,
  "toc-showcode": true,
  "toc-showmarkdowntxt": true
 },
 "nbformat": 4,
 "nbformat_minor": 5
}
