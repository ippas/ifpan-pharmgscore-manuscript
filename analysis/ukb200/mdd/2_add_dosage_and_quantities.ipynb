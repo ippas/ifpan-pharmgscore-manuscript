{
 "cells": [
  {
   "cell_type": "code",
   "execution_count": null,
   "id": "0",
   "metadata": {
    "tags": []
   },
   "outputs": [],
   "source": [
    "import pyspark\n",
    "import pandas as pd\n",
    "import dxpy\n",
    "import dxdata\n",
    "import numpy as np\n",
    "import matplotlib.pyplot as plt\n",
    "from bokeh.io import show, output_notebook\n",
    "from bokeh.layouts import gridplot\n",
    "import seaborn as sns\n",
    "import random\n",
    "import re\n",
    "output_notebook()"
   ]
  },
  {
   "cell_type": "code",
   "execution_count": null,
   "id": "1",
   "metadata": {
    "tags": []
   },
   "outputs": [],
   "source": [
    "sc = pyspark.SparkContext()\n",
    "spark = pyspark.sql.SparkSession(sc)"
   ]
  },
  {
   "cell_type": "code",
   "execution_count": null,
   "id": "2",
   "metadata": {
    "tags": []
   },
   "outputs": [],
   "source": [
    "import hail as hl\n",
    "hl.init(sc=sc, default_reference='GRCh38')"
   ]
  },
  {
   "cell_type": "code",
   "execution_count": null,
   "id": "3",
   "metadata": {
    "tags": []
   },
   "outputs": [],
   "source": [
    "db_name = \"mdd_db\"\n",
    "db_uri = dxpy.find_one_data_object(name=f\"{db_name}\", classname=\"database\")['id']\n",
    "url = f\"dnax://{db_uri}/all_presc.ht\"\n",
    "full = hl.read_table(url)"
   ]
  },
  {
   "cell_type": "code",
   "execution_count": null,
   "id": "4",
   "metadata": {
    "tags": []
   },
   "outputs": [],
   "source": [
    "full.describe()"
   ]
  },
  {
   "cell_type": "code",
   "execution_count": null,
   "id": "5",
   "metadata": {
    "tags": []
   },
   "outputs": [],
   "source": [
    "bnf = full.filter(full.system == 'bnf')\n",
    "bnf.count()"
   ]
  },
  {
   "cell_type": "code",
   "execution_count": null,
   "id": "6",
   "metadata": {
    "tags": []
   },
   "outputs": [],
   "source": [
    "def extract_dose(trade_name):\n",
    "    # Match x mg/ x mL\n",
    "    mg_ml_matches = re.findall(r'(\\d+\\.?\\d*)\\s?mg/(\\d+\\.?\\d*)\\s?ml\\b', trade_name, re.IGNORECASE)\n",
    "    if mg_ml_matches:\n",
    "        mg_value, ml_value = mg_ml_matches[0]\n",
    "        return int(float(mg_value) / float(ml_value))\n",
    "\n",
    "    # Match mg/mL\n",
    "    mg_ml_matches = re.findall(r'(\\d+\\.?\\d*)\\s?mg/mL\\b', trade_name, re.IGNORECASE)\n",
    "    if mg_ml_matches:\n",
    "        return int(mg_ml_matches[0])\n",
    "\n",
    "    # Match mg\n",
    "    mg_matches = re.findall(r'(\\d+\\.?\\d*)\\s?[mM][gG](?:\\b|_)', trade_name, re.IGNORECASE)\n",
    "    if mg_matches:\n",
    "        return int(float(mg_matches[0]))\n",
    "\n",
    "    # Match MGS\n",
    "    mg_matches = re.findall(r'(\\d+\\.?\\d*)\\s?MGS(?:\\b|_)', trade_name, re.IGNORECASE)\n",
    "    if mg_matches:\n",
    "        return int(mg_matches[0])\n",
    "\n",
    "    return None"
   ]
  },
  {
   "cell_type": "code",
   "execution_count": null,
   "id": "7",
   "metadata": {
    "tags": []
   },
   "outputs": [],
   "source": [
    "unique_infos = bnf.aggregate(hl.agg.collect_as_set(bnf.info))\n",
    "unique_infos = list(unique_infos)"
   ]
  },
  {
   "cell_type": "code",
   "execution_count": null,
   "id": "8",
   "metadata": {
    "tags": []
   },
   "outputs": [],
   "source": [
    "bnf_dose_dict = {info: extract_dose(info) for info in unique_infos}"
   ]
  },
  {
   "cell_type": "code",
   "execution_count": null,
   "id": "9",
   "metadata": {
    "tags": []
   },
   "outputs": [],
   "source": [
    "bnf = bnf.annotate(dose=hl.literal(bnf_dose_dict).get(bnf.info))"
   ]
  },
  {
   "cell_type": "code",
   "execution_count": null,
   "id": "10",
   "metadata": {
    "tags": []
   },
   "outputs": [],
   "source": [
    "#bnf system rows without doses\n",
    "bnf.aggregate(hl.agg.count_where(hl.is_missing(bnf.dose)))"
   ]
  },
  {
   "cell_type": "code",
   "execution_count": null,
   "id": "11",
   "metadata": {
    "tags": []
   },
   "outputs": [],
   "source": [
    "bnf.describe()"
   ]
  },
  {
   "cell_type": "code",
   "execution_count": null,
   "id": "12",
   "metadata": {
    "tags": []
   },
   "outputs": [],
   "source": [
    "def extract_tablets(trade_name):\n",
    "    tablet_matches = re.findall(r'(\\d+) packs of (\\d+)', trade_name, re.IGNORECASE)\n",
    "    if tablet_matches:\n",
    "        number1 = int(tablet_matches[0][0])\n",
    "        number2 = int(tablet_matches[0][1])\n",
    "        return number1 * number2\n",
    "    tablet_matches = re.findall(r'(\\d+) x (\\d+)', trade_name, re.IGNORECASE)\n",
    "    if tablet_matches:\n",
    "        number1 = int(tablet_matches[0][0])\n",
    "        number2 = int(tablet_matches[0][1])\n",
    "        return number1 * number2\n",
    "    tablet_matches = re.findall(r'(\\d+)x(\\d+)', trade_name, re.IGNORECASE)\n",
    "    if tablet_matches:\n",
    "        number1 = int(tablet_matches[0][0])\n",
    "        number2 = int(tablet_matches[0][1])\n",
    "        return number1 * number2\n",
    "    tablet_matches = re.findall(r'(\\d+) X (\\d+)', trade_name, re.IGNORECASE)\n",
    "    if tablet_matches:\n",
    "        number1 = int(tablet_matches[0][0])\n",
    "        number2 = int(tablet_matches[0][1])\n",
    "        return number1 * number2\n",
    "    tablet_matches = re.findall(r'(\\d+)X(\\d+)', trade_name, re.IGNORECASE)\n",
    "    if tablet_matches:\n",
    "        number1 = int(tablet_matches[0][0])\n",
    "        number2 = int(tablet_matches[0][1])\n",
    "        return number1 * number2\n",
    "    tablet_matches = re.findall(r'(\\d+) Packs of (\\d+)', trade_name, re.IGNORECASE)\n",
    "    if tablet_matches:\n",
    "        number1 = int(tablet_matches[0][0])\n",
    "        number2 = int(tablet_matches[0][1])\n",
    "        return number1 * number2\n",
    "    tablet_matches = re.findall(r'(\\d+) pack of (\\d+)', trade_name, re.IGNORECASE)\n",
    "    if tablet_matches:\n",
    "        number1 = int(tablet_matches[0][0])\n",
    "        number2 = int(tablet_matches[0][1])\n",
    "        return number1 * number2\n",
    "    tablet_matches = re.findall(r'(\\d+) Pack of (\\d+)', trade_name, re.IGNORECASE)\n",
    "    if tablet_matches:\n",
    "        number1 = int(tablet_matches[0][0])\n",
    "        number2 = int(tablet_matches[0][1])\n",
    "        return number1 * number2\n",
    "    tablet_matches = re.findall(r'(\\d+)\\*(\\d+)', trade_name, re.IGNORECASE)\n",
    "    if tablet_matches:\n",
    "        number1 = int(tablet_matches[0][0])\n",
    "        number2 = int(tablet_matches[0][1])\n",
    "        return number1 * number2\n",
    "    tablet_matches = re.findall(r'(\\d+)\\s?(?:tabs?|tablets?|tab?| - tablet?|cap)\\b', trade_name, re.IGNORECASE)\n",
    "    if tablet_matches:\n",
    "        return int(tablet_matches[0])\n",
    "    tablet_matches = re.findall(r'capsules_\\[(\\d+)\\]', trade_name, re.IGNORECASE)\n",
    "    if tablet_matches:\n",
    "        return int(tablet_matches[0])\n",
    "    tablet_matches = re.findall(r'(oral solution sugar free_?|cap_?|caps s/r_?|tablet_?|capsules_?|days=?|days = ?|CAPS_?|tablets_mitte x ?|Tabs_?|oral solution_)(\\d+)', trade_name, re.IGNORECASE)\n",
    "    if tablet_matches:\n",
    "        return int(tablet_matches[0][1])\n",
    "    tablet_matches = re.findall(r'MG_(-?\\d+)', trade_name, re.IGNORECASE)\n",
    "    if tablet_matches:\n",
    "        return int(tablet_matches[0])\n",
    "    tablet_matches = re.findall(r'tab_(-?\\d+)', trade_name, re.IGNORECASE)\n",
    "    if tablet_matches:\n",
    "        return int(tablet_matches[0])\n",
    "    tablet_matches = re.findall(r'MGS_(-?\\d+)', trade_name, re.IGNORECASE)\n",
    "    if tablet_matches:\n",
    "        return int(tablet_matches[0])\n",
    "    tablet_matches = re.findall(r'ml_(\\d+)', trade_name, re.IGNORECASE)\n",
    "    if tablet_matches:\n",
    "        return int(tablet_matches[0])\n",
    "    tablet_matches = re.findall(r'\\((Teva UK Ltd|Dexcel-Pharma Ltd|Bluefish Pharmaceuticals AB|Morningside Healthcare Ltd|Aspire Pharma Ltd|Ethypharm UK Ltd|Dallas Burston Ashbourne Ltd|Mercury Pharma Group Ltd|Wyeth Pharmaceuticals|Actavis UK Ltd|Merck Sharp & Dohme Ltd|Organon Laboratories Ltd|AMCo|Wockhardt UK Ltd|Pfizer Ltd|Novartis Pharmaceuticals UK Ltd|Lundbeck Ltd|Zentiva|Eli Lilly and Company Ltd|GlaxoSmithKline UK Ltd|DB Ashbourne Ltd|Sanofi)\\)_(\\d+).*', trade_name, re.IGNORECASE)\n",
    "    if tablet_matches:\n",
    "        return int(tablet_matches[0][1])\n",
    "    tablet_matches = re.findall(r'tablets_x (\\d+).*', trade_name, re.IGNORECASE)\n",
    "    if tablet_matches:\n",
    "        return int(tablet_matches[0])\n",
    "    tablet_matches = re.findall(r'tablets_x(\\d+).*', trade_name, re.IGNORECASE)\n",
    "    if tablet_matches:\n",
    "        return int(tablet_matches[0])\n",
    "    tablet_matches = re.findall(r'tablets_(\\d+).*', trade_name, re.IGNORECASE) \n",
    "    if tablet_matches:\n",
    "        return int(tablet_matches[0])\n",
    "    tablet_matches = re.findall(r'tablets_mitte (\\d+).*', trade_name, re.IGNORECASE)\n",
    "    if tablet_matches:\n",
    "        return int(tablet_matches[0])\n",
    "    tablet_matches = re.findall(r'tablets_\\[(\\d+)\\]', trade_name, re.IGNORECASE)\n",
    "    if tablet_matches:\n",
    "        return int(tablet_matches[0])\n",
    "    tablet_matches = re.findall(r'(tablets_|capsules_)\\((\\d+)', trade_name, re.IGNORECASE)\n",
    "    if tablet_matches:\n",
    "        return int(tablet_matches[0][1])\n",
    "    tablet_matches = re.findall(r'(\\d+) (days?|tablet)', trade_name, re.IGNORECASE)\n",
    "    if tablet_matches:\n",
    "        return int(tablet_matches[0][0])\n",
    "    tablet_matches = re.findall(r'(\\d+) (capsules|capsule)', trade_name, re.IGNORECASE)\n",
    "    if tablet_matches:\n",
    "        return int(tablet_matches[0][0])\n",
    "    tablet_matches = re.findall(r'(\\d+)(millilitres?|ml|mls)', trade_name, re.IGNORECASE)\n",
    "    if tablet_matches:\n",
    "        return int(tablet_matches[0][0])\n",
    "    tablet_matches = re.findall(r'(\\d+) (millilitres?|ml|mls)', trade_name, re.IGNORECASE)\n",
    "    if tablet_matches:\n",
    "        return int(tablet_matches[0][0])\n",
    "    return hl.missing(hl.tstr)"
   ]
  },
  {
   "cell_type": "code",
   "execution_count": null,
   "id": "13",
   "metadata": {
    "tags": []
   },
   "outputs": [],
   "source": [
    "bnf_tabs_dict = {}\n",
    "for info in unique_infos:\n",
    "    bnf_tabs_dict[info] = hl.eval(extract_tablets(info))"
   ]
  },
  {
   "cell_type": "code",
   "execution_count": null,
   "id": "14",
   "metadata": {
    "tags": []
   },
   "outputs": [],
   "source": [
    "bnf = bnf.annotate(tablets=hl.literal(bnf_tabs_dict).get(bnf.info))\n",
    "missing_tablets = bnf.filter(hl.is_missing(bnf.tablets))\n",
    "count_info = missing_tablets.group_by(missing_tablets.info).aggregate(count=hl.agg.count())\n",
    "count_info=count_info.to_pandas()\n",
    "count_info=count_info.sort_values(by='count', ascending=False)"
   ]
  },
  {
   "cell_type": "code",
   "execution_count": null,
   "id": "15",
   "metadata": {
    "tags": []
   },
   "outputs": [],
   "source": [
    "#bnf system data without quantity\n",
    "bnf.aggregate(hl.agg.count_where(hl.is_missing(bnf.tablets)))"
   ]
  },
  {
   "cell_type": "code",
   "execution_count": null,
   "id": "16",
   "metadata": {
    "tags": []
   },
   "outputs": [],
   "source": [
    "read_2 = full.filter(full.system == 'read_2')\n",
    "read_2.count()"
   ]
  },
  {
   "cell_type": "code",
   "execution_count": null,
   "id": "17",
   "metadata": {
    "tags": []
   },
   "outputs": [],
   "source": [
    "read_2_df = pd.read_csv('../data/read_name_drug.csv',  dtype=str)\n",
    "read_2_dose_dict = read_2_df.set_index('read_code')['dose'].to_dict()\n",
    "read_2_dose_dict = {k: v for k, v in read_2_dose_dict.items() if not pd.isna(v)}\n",
    "read_2_dose_dict = {key: extract_dose(value) for key, value in read_2_dose_dict.items()}\n",
    "read_2_dose_dict = hl.literal(read_2_dose_dict)"
   ]
  },
  {
   "cell_type": "code",
   "execution_count": null,
   "id": "18",
   "metadata": {
    "tags": []
   },
   "outputs": [],
   "source": [
    "read_2 = read_2.annotate(dose=read_2_dose_dict.get(read_2.code))"
   ]
  },
  {
   "cell_type": "code",
   "execution_count": null,
   "id": "19",
   "metadata": {
    "tags": []
   },
   "outputs": [],
   "source": [
    "missing_dose_infos = read_2.filter(hl.is_missing(read_2.dose))\n",
    "unique_infos = missing_dose_infos.aggregate(hl.agg.collect_as_set(missing_dose_infos.info))\n",
    "unique_infos = list(unique_infos)\n",
    "read_2_dose_dict = {info: extract_dose(info) for info in unique_infos}\n",
    "read_2_dose_dict = hl.literal(read_2_dose_dict)\n",
    "read_2 = read_2.annotate(dose=hl.or_else(read_2.dose, read_2_dose_dict.get(read_2.info)))"
   ]
  },
  {
   "cell_type": "code",
   "execution_count": null,
   "id": "20",
   "metadata": {
    "tags": []
   },
   "outputs": [],
   "source": [
    "#read 2 system data without doses\n",
    "read_2.aggregate(hl.agg.count_where(hl.is_missing(read_2.dose)))"
   ]
  },
  {
   "cell_type": "code",
   "execution_count": null,
   "id": "21",
   "metadata": {
    "tags": []
   },
   "outputs": [],
   "source": [
    "unique_infos = read_2.aggregate(hl.agg.collect_as_set(read_2.info))\n",
    "read_2_tabs_dict = {}\n",
    "for info in unique_infos:\n",
    "    read_2_tabs_dict[info] = hl.eval(extract_tablets(info))"
   ]
  },
  {
   "cell_type": "code",
   "execution_count": null,
   "id": "22",
   "metadata": {},
   "outputs": [],
   "source": [
    "read_2 = read_2.annotate(tablets=hl.literal(read_2_tabs_dict).get(read_2.info))\n",
    "missing_tablets = read_2.filter(hl.is_missing(read_2.tablets))\n",
    "count_info = missing_tablets.group_by(missing_tablets.info).aggregate(count=hl.agg.count())\n",
    "count_info=count_info.to_pandas()\n",
    "count_info=count_info.sort_values(by='count', ascending=False)"
   ]
  },
  {
   "cell_type": "code",
   "execution_count": null,
   "id": "23",
   "metadata": {
    "tags": []
   },
   "outputs": [],
   "source": [
    "#read 2 system data without quantity\n",
    "read_2.aggregate(hl.agg.count_where(hl.is_missing(read_2.tablets)))"
   ]
  },
  {
   "cell_type": "code",
   "execution_count": null,
   "id": "24",
   "metadata": {
    "tags": []
   },
   "outputs": [],
   "source": [
    "ctv3 = full.filter(full.system == 'read_3')\n",
    "ctv3.count()"
   ]
  },
  {
   "cell_type": "code",
   "execution_count": null,
   "id": "25",
   "metadata": {
    "tags": []
   },
   "outputs": [],
   "source": [
    "ctv3_df = pd.read_csv('../data/ctv3_drug.csv', dtype=str)\n",
    "ctv3_dose_dict = ctv3_df.set_index('read_code')['dose'].to_dict()\n",
    "ctv3_dose_dict = {k: v for k, v in ctv3_dose_dict.items() if not pd.isna(v)}\n",
    "ctv3_dose_dict = {key: extract_dose(value) for key, value in ctv3_dose_dict.items()}\n",
    "ctv3_dose_dict = hl.literal(ctv3_dose_dict)"
   ]
  },
  {
   "cell_type": "code",
   "execution_count": null,
   "id": "26",
   "metadata": {
    "tags": []
   },
   "outputs": [],
   "source": [
    "ctv3 = ctv3.annotate(dose=ctv3_dose_dict.get(ctv3.code))"
   ]
  },
  {
   "cell_type": "code",
   "execution_count": null,
   "id": "27",
   "metadata": {
    "tags": []
   },
   "outputs": [],
   "source": [
    "#ctv3 system data without doses\n",
    "ctv3.aggregate(hl.agg.count_where(hl.is_missing(ctv3.dose)))"
   ]
  },
  {
   "cell_type": "code",
   "execution_count": null,
   "id": "28",
   "metadata": {
    "tags": []
   },
   "outputs": [],
   "source": [
    "dmd = full.filter(full.system == 'dmd')\n",
    "dmd.count()"
   ]
  },
  {
   "cell_type": "code",
   "execution_count": null,
   "id": "29",
   "metadata": {
    "tags": []
   },
   "outputs": [],
   "source": [
    "dmd_df = pd.read_csv('../data/dmd_name.csv',  dtype=str)\n",
    "dmd_dose_dict = dmd_df.set_index('dmd_code')['dose'].to_dict()\n",
    "dmd_dose_dict = {k: v for k, v in dmd_dose_dict.items() if not pd.isna(v)}\n",
    "dmd_dose_dict = {key: extract_dose(value) for key, value in dmd_dose_dict.items()}\n",
    "dmd_dose_dict = hl.literal(dmd_dose_dict)"
   ]
  },
  {
   "cell_type": "code",
   "execution_count": null,
   "id": "30",
   "metadata": {
    "tags": []
   },
   "outputs": [],
   "source": [
    "dmd = dmd.annotate(dose=dmd_dose_dict.get(dmd.code))"
   ]
  },
  {
   "cell_type": "code",
   "execution_count": null,
   "id": "31",
   "metadata": {
    "tags": []
   },
   "outputs": [],
   "source": [
    "missing_dose_infos = dmd.filter(hl.is_missing(dmd.dose))\n",
    "unique_infos = missing_dose_infos.aggregate(hl.agg.collect_as_set(missing_dose_infos.info))\n",
    "unique_infos = list(unique_infos)\n",
    "dmd_dose_dict = {info: extract_dose(info) for info in unique_infos}\n",
    "dmd_dose_dict = hl.literal(dmd_dose_dict)\n",
    "dmd = dmd.annotate(dose=hl.or_else(dmd.dose, dmd_dose_dict.get(dmd.info)))"
   ]
  },
  {
   "cell_type": "code",
   "execution_count": null,
   "id": "32",
   "metadata": {
    "tags": []
   },
   "outputs": [],
   "source": [
    "#dmd system data without doses\n",
    "dmd.aggregate(hl.agg.count_where(hl.is_missing(dmd.dose)))"
   ]
  },
  {
   "cell_type": "code",
   "execution_count": null,
   "id": "33",
   "metadata": {
    "tags": []
   },
   "outputs": [],
   "source": [
    "unique_infos = dmd.aggregate(hl.agg.collect_as_set(dmd.info))\n",
    "dmd_tabs_dict = {}\n",
    "for info in unique_infos:\n",
    "    dmd_tabs_dict[info] = hl.eval(extract_tablets(info))"
   ]
  },
  {
   "cell_type": "code",
   "execution_count": null,
   "id": "34",
   "metadata": {},
   "outputs": [],
   "source": [
    "dmd = dmd.annotate(tablets=hl.literal(dmd_tabs_dict).get(dmd.info))\n",
    "missing_tablets = dmd.filter(hl.is_missing(dmd.tablets))\n"
   ]
  },
  {
   "cell_type": "code",
   "execution_count": null,
   "id": "35",
   "metadata": {
    "tags": []
   },
   "outputs": [],
   "source": [
    "#dmd system data without quantity\n",
    "dmd.aggregate(hl.agg.count_where(hl.is_missing(dmd.tablets)))"
   ]
  },
  {
   "cell_type": "code",
   "execution_count": null,
   "id": "36",
   "metadata": {
    "tags": []
   },
   "outputs": [],
   "source": [
    "bnf.describe()"
   ]
  },
  {
   "cell_type": "code",
   "execution_count": null,
   "id": "37",
   "metadata": {
    "tags": []
   },
   "outputs": [],
   "source": [
    "read_2.describe()"
   ]
  },
  {
   "cell_type": "code",
   "execution_count": null,
   "id": "38",
   "metadata": {
    "tags": []
   },
   "outputs": [],
   "source": [
    "ctv3.describe()"
   ]
  },
  {
   "cell_type": "code",
   "execution_count": null,
   "id": "39",
   "metadata": {
    "tags": []
   },
   "outputs": [],
   "source": [
    "dmd.describe()"
   ]
  },
  {
   "cell_type": "code",
   "execution_count": null,
   "id": "40",
   "metadata": {
    "tags": []
   },
   "outputs": [],
   "source": [
    "all = bnf.union(read_2, unify=True).union(ctv3, unify=True).union(dmd, unify=True)"
   ]
  },
  {
   "cell_type": "code",
   "execution_count": null,
   "id": "41",
   "metadata": {
    "tags": []
   },
   "outputs": [],
   "source": [
    "db_name = \"mdd_db\"\n",
    "full_tb_name = \"all_presc_v2.ht\"\n",
    "\n",
    "stmt = f\"CREATE DATABASE IF NOT EXISTS {db_name} LOCATION 'dnax://'\"\n",
    "print(stmt)\n",
    "\n",
    "spark.sql(stmt).show()"
   ]
  },
  {
   "cell_type": "code",
   "execution_count": null,
   "id": "42",
   "metadata": {
    "tags": []
   },
   "outputs": [],
   "source": [
    "db_uri = dxpy.find_one_data_object(name=f\"{db_name}\", classname=\"database\")['id']\n",
    "url = f\"dnax://{db_uri}/{full_tb_name}\""
   ]
  },
  {
   "cell_type": "code",
   "execution_count": null,
   "id": "43",
   "metadata": {
    "tags": []
   },
   "outputs": [],
   "source": [
    "all.write(url, overwrite=True)"
   ]
  }
 ],
 "metadata": {
  "kernelspec": {
   "display_name": "Python 3 (ipykernel)",
   "language": "python",
   "name": "python3"
  },
  "language_info": {
   "codemirror_mode": {
    "name": "ipython",
    "version": 3
   },
   "file_extension": ".py",
   "mimetype": "text/x-python",
   "name": "python",
   "nbconvert_exporter": "python",
   "pygments_lexer": "ipython3",
   "version": "3.9.16"
  }
 },
 "nbformat": 4,
 "nbformat_minor": 5
}
