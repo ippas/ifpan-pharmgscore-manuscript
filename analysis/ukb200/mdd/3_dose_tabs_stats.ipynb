{
 "cells": [
  {
   "cell_type": "code",
   "execution_count": null,
   "metadata": {
    "tags": []
   },
   "outputs": [],
   "source": [
    "import pyspark\n",
    "import pandas as pd\n",
    "import dxpy\n",
    "import dxdata\n",
    "import numpy as np\n",
    "import matplotlib.pyplot as plt\n",
    "from bokeh.io import show, output_notebook\n",
    "from bokeh.layouts import gridplot\n",
    "import seaborn as sns\n",
    "import random\n",
    "import re\n",
    "output_notebook()"
   ]
  },
  {
   "cell_type": "code",
   "execution_count": null,
   "metadata": {
    "tags": []
   },
   "outputs": [],
   "source": [
    "sc = pyspark.SparkContext()\n",
    "spark = pyspark.sql.SparkSession(sc)"
   ]
  },
  {
   "cell_type": "code",
   "execution_count": null,
   "metadata": {
    "tags": []
   },
   "outputs": [],
   "source": [
    "import hail as hl\n",
    "hl.init(sc=sc, default_reference='GRCh38')"
   ]
  },
  {
   "cell_type": "code",
   "execution_count": null,
   "metadata": {
    "tags": []
   },
   "outputs": [],
   "source": [
    "db_name = \"mdd\"\n",
    "db_uri = dxpy.find_one_data_object(name=f\"{db_name}\", classname=\"database\")['id']\n",
    "url = f\"dnax://{db_uri}/all_presc_v2.ht\"\n",
    "full = hl.read_table(url)"
   ]
  },
  {
   "cell_type": "code",
   "execution_count": null,
   "metadata": {
    "tags": []
   },
   "outputs": [],
   "source": [
    "full.describe()"
   ]
  },
  {
   "cell_type": "code",
   "execution_count": null,
   "metadata": {
    "tags": []
   },
   "outputs": [],
   "source": [
    "# missing tabs\n",
    "missing=full.aggregate(hl.agg.count_where((hl.is_missing(full.tablets)) | (full.tablets==-1) | (full.tablets==0)))\n",
    "all_count=full.count()\n",
    "print(f'{missing/all_count*100}%')"
   ]
  },
  {
   "cell_type": "code",
   "execution_count": null,
   "metadata": {
    "tags": []
   },
   "outputs": [],
   "source": [
    "# missing doses\n",
    "missing=full.aggregate(hl.agg.count_where((hl.is_missing(full.dose))))\n",
    "all_count=full.count()\n",
    "print(f'{missing/all_count*100}%')"
   ]
  },
  {
   "cell_type": "code",
   "execution_count": null,
   "metadata": {
    "tags": []
   },
   "outputs": [],
   "source": [
    "stats = full.group_by(full.eid).aggregate(\n",
    "    count_rows = hl.agg.count(),\n",
    "    count_missing_rows = hl.agg.count_where(hl.is_missing(full.tablets))\n",
    ")\n",
    "\n",
    "stats = stats.annotate(\n",
    "    percent_of_missing = 100.0 * stats.count_missing_rows / stats.count_rows\n",
    ")\n",
    "\n",
    "df=stats.to_pandas()\n",
    "plt.figure(figsize=(10, 6))\n",
    "plt.figure(figsize=(10, 6))\n",
    "counts, bin_edges, patches = plt.hist(df['percent_of_missing'], bins=100, edgecolor='black')\n",
    "plt.title('Percentage of missing records in the tablets column')\n",
    "plt.xlabel('Percentage of missing records')\n",
    "plt.ylabel('Number of eid')\n",
    "plt.grid(True)\n",
    "plt.show()"
   ]
  },
  {
   "cell_type": "code",
   "execution_count": null,
   "metadata": {
    "tags": []
   },
   "outputs": [],
   "source": [
    "stats = full.group_by(full.eid).aggregate(\n",
    "    count_rows = hl.agg.count(),\n",
    "    count_missing_rows = hl.agg.count_where(hl.is_missing(full.dose))\n",
    ")\n",
    "\n",
    "stats = stats.annotate(\n",
    "    percent_of_missing = 100.0 * stats.count_missing_rows / stats.count_rows\n",
    ")\n",
    "\n",
    "df=stats.to_pandas()\n",
    "plt.figure(figsize=(10, 6))\n",
    "plt.hist(df['percent_of_missing'], bins=100, edgecolor='black')\n",
    "plt.title('Percentage of missing records in the dose column')\n",
    "plt.xlabel('Percentage of missing records')\n",
    "plt.ylabel('Number of eid')\n",
    "plt.grid(True)\n",
    "plt.show()"
   ]
  },
  {
   "cell_type": "code",
   "execution_count": null,
   "metadata": {
    "tags": []
   },
   "outputs": [],
   "source": [
    "missing=full.filter((hl.is_missing(full.tablets)) | (full.tablets==-1) | (full.tablets==0))"
   ]
  },
  {
   "cell_type": "code",
   "execution_count": null,
   "metadata": {
    "tags": []
   },
   "outputs": [],
   "source": [
    "def perc(term):\n",
    "    term_df=full.filter(full.term==term)\n",
    "    stats = term_df.group_by(term_df.eid).aggregate(\n",
    "        count_rows = hl.agg.count(),\n",
    "        count_missing_rows = hl.agg.count_where(hl.is_missing(term_df.tablets))\n",
    "    )\n",
    "\n",
    "    stats = stats.annotate(\n",
    "        percent_of_missing = 100.0 * stats.count_missing_rows / stats.count_rows\n",
    "    )\n",
    "\n",
    "    df=stats.to_pandas()\n",
    "    plt.figure(figsize=(10, 6))\n",
    "    plt.hist(df['percent_of_missing'], bins=100, edgecolor='black')\n",
    "    plt.title(f'Percentage of missing records in the tablets column for {term}')\n",
    "    plt.xlabel('Percentage of missing records')\n",
    "    plt.ylabel('Number of eid')\n",
    "    plt.grid(True)\n",
    "    plt.show()"
   ]
  },
  {
   "cell_type": "code",
   "execution_count": null,
   "metadata": {
    "jupyter": {
     "outputs_hidden": true
    },
    "tags": []
   },
   "outputs": [],
   "source": [
    "for term in terms:\n",
    "    perc(term)"
   ]
  },
  {
   "cell_type": "code",
   "execution_count": null,
   "metadata": {
    "tags": []
   },
   "outputs": [],
   "source": [
    "bins = list(range(0, 101, 1))"
   ]
  },
  {
   "cell_type": "code",
   "execution_count": null,
   "metadata": {
    "tags": []
   },
   "outputs": [],
   "source": [
    "missing=full.filter((hl.is_missing(full.tablets)) | (full.tablets==-1) | (full.tablets==0))\n",
    "missing=missing.group_by(missing.eid).aggregate(\n",
    "    count_rows = hl.agg.count()\n",
    ")\n",
    "\n",
    "df=missing.to_pandas()\n",
    "plt.figure(figsize=(10, 6))\n",
    "counts, bin_edges, patches = plt.hist(df['count_rows'], bins=bins, edgecolor='black')\n",
    "plt.xlabel('Number of prescriptions')\n",
    "plt.ylabel('Number of unique eids')\n",
    "\n",
    "total_count = np.sum(counts)\n",
    "percentages = (counts / total_count) * 100\n",
    "\n",
    "for count, edge_left, edge_right, percentage in zip(counts, bin_edges[:-1], bin_edges[1:], percentages):\n",
    "    if count > 0:\n",
    "        plt.text(edge_left + (edge_right - edge_left) / 2, count, f'{percentage:.1f}%', \n",
    "                 ha='center', va='bottom')\n",
    "plt.grid(True)\n",
    "plt.show()"
   ]
  },
  {
   "cell_type": "code",
   "execution_count": null,
   "metadata": {
    "tags": []
   },
   "outputs": [],
   "source": [
    "df=full.group_by(full.eid).aggregate(\n",
    "    count_rows = hl.agg.count()\n",
    ")\n",
    "\n",
    "df=df.to_pandas()\n",
    "plt.figure(figsize=(10, 6))\n",
    "counts, bin_edges, patches = plt.hist(df['count_rows'], bins=bins, edgecolor='black')\n",
    "plt.xlabel('Number of prescriptions')\n",
    "plt.ylabel('Number of unique eids')\n",
    "\n",
    "total_count = np.sum(counts)\n",
    "percentages = (counts / total_count) * 100\n",
    "\n",
    "for count, edge_left, edge_right, percentage in zip(counts, bin_edges[:-1], bin_edges[1:], percentages):\n",
    "    if count > 0:\n",
    "        plt.text(edge_left + (edge_right - edge_left) / 2, count, f'{percentage:.1f}%', \n",
    "                 ha='center', va='bottom')\n",
    "plt.grid(True)\n",
    "plt.show()"
   ]
  },
  {
   "cell_type": "code",
   "execution_count": null,
   "metadata": {
    "tags": []
   },
   "outputs": [],
   "source": [
    "dose_counts = full.group_by(full.term, full.dose).aggregate(counts=hl.agg.count())\n",
    "dose_counts_df = dose_counts.to_pandas()\n",
    "dose_counts_df['dose'] = dose_counts_df['dose'].fillna(-1).astype(int)"
   ]
  },
  {
   "cell_type": "code",
   "execution_count": null,
   "metadata": {
    "tags": []
   },
   "outputs": [],
   "source": [
    "#update the missing dose values with the most frequent dose for each term\n",
    "most_frequent_doses = (\n",
    "    dose_counts_df.dropna(subset=['dose']) \n",
    "    .groupby('term')\n",
    "    .apply(lambda x: x.loc[x['counts'].idxmax(), 'dose'])\n",
    "    .reset_index()\n",
    "    .rename(columns={0: 'most_frequent_dose'})\n",
    ")\n",
    "most_frequent_doses_dict = most_frequent_doses.set_index('term')['most_frequent_dose'].to_dict()\n",
    "most_frequent_doses_hail = hl.literal(most_frequent_doses_dict)"
   ]
  },
  {
   "cell_type": "code",
   "execution_count": null,
   "metadata": {
    "tags": []
   },
   "outputs": [],
   "source": [
    "full = full.annotate(most_frequent_dose=most_frequent_doses_hail[full.term])\n",
    "full = full.annotate(dose=hl.or_else(full.dose, full.most_frequent_dose))\n",
    "full = full.drop('most_frequent_dose')"
   ]
  },
  {
   "cell_type": "code",
   "execution_count": null,
   "metadata": {
    "tags": []
   },
   "outputs": [],
   "source": [
    "#set null in tabs where tabs was -1\n",
    "full = full.annotate(\n",
    "    tablets=hl.or_missing(full.tablets != -1, full.tablets)  \n",
    ")"
   ]
  },
  {
   "cell_type": "code",
   "execution_count": null,
   "metadata": {
    "tags": []
   },
   "outputs": [],
   "source": [
    "tabs_counts = full.group_by(full.term, full.tablets).aggregate(counts=hl.agg.count())\n",
    "tabs_counts_df = tabs_counts.to_pandas()\n",
    "tabs_counts_df['tablets'] = tabs_counts_df['tablets'].fillna(-1).astype(int)"
   ]
  },
  {
   "cell_type": "code",
   "execution_count": null,
   "metadata": {
    "tags": []
   },
   "outputs": [],
   "source": [
    "counts = full.group_by(full.term, full.tablets, full.dose).aggregate(counts=hl.agg.count())\n",
    "counts_df = counts.to_pandas()\n",
    "counts_df['tablets'] = counts_df['tablets'].fillna(-1).astype(int)\n",
    "counts_df['dose'] = counts_df['dose'].fillna(-1).astype(int)"
   ]
  },
  {
   "cell_type": "code",
   "execution_count": null,
   "metadata": {
    "tags": []
   },
   "outputs": [],
   "source": [
    "quantity_counts = full.group_by(full.term, full.dose, full.tablets).aggregate(counts=hl.agg.count())\n",
    "quantity_counts_df = quantity_counts.to_pandas()\n",
    "quantity_counts_df['tablets'] = quantity_counts_df['tablets'].fillna(-1).astype(int)"
   ]
  },
  {
   "cell_type": "code",
   "execution_count": null,
   "metadata": {
    "tags": []
   },
   "outputs": [],
   "source": [
    "#update the missing quantity values with the most frequent quantity for each term and dose\n",
    "most_frequent_quantities = (\n",
    "    quantity_counts_df\n",
    "    .groupby(['term', 'dose'])\n",
    "    .apply(lambda x: x.loc[x['counts'].idxmax(), 'tablets'])\n",
    "    .reset_index()\n",
    "    .rename(columns={0: 'most_frequent_quantity'})\n",
    ")"
   ]
  },
  {
   "cell_type": "code",
   "execution_count": null,
   "metadata": {
    "tags": []
   },
   "outputs": [],
   "source": [
    "most_frequent_quantity_dict = most_frequent_quantities.set_index(['term', 'dose'])['most_frequent_quantity'].to_dict()"
   ]
  },
  {
   "cell_type": "code",
   "execution_count": null,
   "metadata": {
    "tags": []
   },
   "outputs": [],
   "source": [
    "most_frequent_quantity_hail = hl.literal(most_frequent_quantity_dict)"
   ]
  },
  {
   "cell_type": "code",
   "execution_count": null,
   "metadata": {
    "tags": []
   },
   "outputs": [],
   "source": [
    "full = full.annotate(most_frequent_quantity=most_frequent_quantity_hail[full.term, full.dose])\n",
    "full = full.annotate(quantity=hl.or_else(full.tablets, full.most_frequent_quantity))\n",
    "full = full.drop('most_frequent_quantity')\n",
    "full = full.drop('tablets')"
   ]
  },
  {
   "cell_type": "code",
   "execution_count": null,
   "metadata": {
    "tags": []
   },
   "outputs": [],
   "source": [
    "# missing tabs\n",
    "missing=full.aggregate(hl.agg.count_where((hl.is_missing(full.quantity)) | (full.quantity==-1) | (full.quantity==0)))\n",
    "all_count=full.count()\n",
    "print(f'{missing/all_count*100}%')"
   ]
  },
  {
   "cell_type": "code",
   "execution_count": null,
   "metadata": {
    "tags": []
   },
   "outputs": [],
   "source": [
    "# missing doses\n",
    "missing=full.aggregate(hl.agg.count_where((hl.is_missing(full.dose))))\n",
    "all_count=full.count()\n",
    "print(f'{missing/all_count*100}%')"
   ]
  },
  {
   "cell_type": "code",
   "execution_count": null,
   "metadata": {
    "tags": []
   },
   "outputs": [],
   "source": [
    "# delete record with missing tabs\n",
    "filtered_full = full.filter(~(hl.is_missing(full.quantity) | (full.quantity == -1) | (full.quantity == 0)))"
   ]
  },
  {
   "cell_type": "code",
   "execution_count": null,
   "metadata": {
    "tags": []
   },
   "outputs": [],
   "source": [
    "db_name = \"mdd\"\n",
    "full_tb_name = \"all_presc_v3.ht\"\n",
    "\n",
    "stmt = f\"CREATE DATABASE IF NOT EXISTS {db_name} LOCATION 'dnax://'\"\n",
    "print(stmt)\n",
    "\n",
    "spark.sql(stmt).show()"
   ]
  },
  {
   "cell_type": "code",
   "execution_count": null,
   "metadata": {
    "tags": []
   },
   "outputs": [],
   "source": [
    "db_uri = dxpy.find_one_data_object(name=f\"{db_name}\", classname=\"database\")['id']\n",
    "url = f\"dnax://{db_uri}/{full_tb_name}\""
   ]
  },
  {
   "cell_type": "code",
   "execution_count": null,
   "metadata": {
    "tags": []
   },
   "outputs": [],
   "source": [
    "filtered_full.write(url, overwrite=True)"
   ]
  }
 ],
 "metadata": {
  "kernelspec": {
   "display_name": "Python 3 (ipykernel)",
   "language": "python",
   "name": "python3"
  },
  "language_info": {
   "codemirror_mode": {
    "name": "ipython",
    "version": 3
   },
   "file_extension": ".py",
   "mimetype": "text/x-python",
   "name": "python",
   "nbconvert_exporter": "python",
   "pygments_lexer": "ipython3",
   "version": "3.9.16"
  }
 },
 "nbformat": 4,
 "nbformat_minor": 4
}
