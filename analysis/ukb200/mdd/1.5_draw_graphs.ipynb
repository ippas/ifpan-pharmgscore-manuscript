{
 "cells": [
  {
   "cell_type": "code",
   "execution_count": null,
   "metadata": {
    "tags": []
   },
   "outputs": [],
   "source": [
    "import pyspark\n",
    "import pandas as pd\n",
    "import dxpy\n",
    "import dxdata\n",
    "import numpy as np\n",
    "import matplotlib.pyplot as plt\n",
    "from bokeh.io import show, output_notebook\n",
    "from bokeh.layouts import gridplot\n",
    "import seaborn as sns\n",
    "import random\n",
    "output_notebook()"
   ]
  },
  {
   "cell_type": "code",
   "execution_count": null,
   "metadata": {
    "tags": []
   },
   "outputs": [],
   "source": [
    "sc = pyspark.SparkContext()\n",
    "spark = pyspark.sql.SparkSession(sc)"
   ]
  },
  {
   "cell_type": "code",
   "execution_count": null,
   "metadata": {
    "tags": []
   },
   "outputs": [],
   "source": [
    "import hail as hl\n",
    "hl.init(sc=sc, default_reference='GRCh38')"
   ]
  },
  {
   "cell_type": "code",
   "execution_count": null,
   "metadata": {
    "tags": []
   },
   "outputs": [],
   "source": [
    "db_name = \"mdd_db\"\n",
    "db_uri = dxpy.find_one_data_object(name=f\"{db_name}\", classname=\"database\")['id']\n",
    "url = f\"dnax://{db_uri}/all_presc.ht\"\n",
    "full = hl.read_table(url)"
   ]
  },
  {
   "cell_type": "code",
   "execution_count": null,
   "metadata": {
    "tags": []
   },
   "outputs": [],
   "source": [
    "full.describe()"
   ]
  },
  {
   "cell_type": "code",
   "execution_count": null,
   "metadata": {
    "tags": []
   },
   "outputs": [],
   "source": [
    "records_per_person = list(dict(full.aggregate(hl.agg.counter(full.eid))).values())"
   ]
  },
  {
   "cell_type": "code",
   "execution_count": null,
   "metadata": {
    "tags": []
   },
   "outputs": [],
   "source": [
    "#Mean number of prescriptions per person:\n",
    "np.mean(records_per_person)"
   ]
  },
  {
   "cell_type": "code",
   "execution_count": null,
   "metadata": {
    "tags": []
   },
   "outputs": [],
   "source": [
    "#Median for number of prescriptions per person:\n",
    "np.median(records_per_person)"
   ]
  },
  {
   "cell_type": "code",
   "execution_count": null,
   "metadata": {
    "tags": []
   },
   "outputs": [],
   "source": [
    "sns.histplot(data=records_per_person, binwidth=10)\n",
    "plt.xlabel('Number of prescriptions')\n",
    "plt.xlim(0,250)\n",
    "plt.ylabel('Frequency')\n",
    "plt.title('Histogram of number of prescriptions per person')\n",
    "plt.show()"
   ]
  },
  {
   "cell_type": "code",
   "execution_count": null,
   "metadata": {
    "tags": []
   },
   "outputs": [],
   "source": [
    "full.aggregate(hl.agg.counter(full.system))"
   ]
  },
  {
   "cell_type": "code",
   "execution_count": null,
   "metadata": {
    "tags": []
   },
   "outputs": [],
   "source": [
    "full = full.annotate(term=full.term.lower())\n",
    "counts_per_drug = list(full.aggregate(hl.agg.counter(full.term)).items())\n",
    "counts_per_drug = pd.DataFrame(counts_per_drug, columns=['term', 'count'])\n",
    "counts_per_drug.sort_values(by='count', ascending=False, inplace=True)\n",
    "\n",
    "palette_terms = {}\n",
    "color_palette = sns.color_palette(\"husl\", len(counts_per_drug))\n",
    "for i, term in enumerate(counts_per_drug['term']):\n",
    "    palette_terms[term] = color_palette[i]\n",
    "\n",
    "colors = [palette_terms[term] for term in counts_per_drug['term']]\n",
    "\n",
    "plt.figure(figsize=(12, 8))\n",
    "bar_plot = sns.barplot(data=counts_per_drug, x='term', y='count', palette=colors)\n",
    "bar_plot.bar_label(bar_plot.containers[0])\n",
    "\n",
    "plt.xlabel('Drugs')\n",
    "plt.ylabel('Number of prescriptions')\n",
    "plt.title('Number of prescriptions per drugs')\n",
    "plt.xticks(rotation=90)\n",
    "plt.show()"
   ]
  },
  {
   "cell_type": "code",
   "execution_count": null,
   "metadata": {
    "tags": []
   },
   "outputs": [],
   "source": [
    "grouped_by_drug = full.group_by(full.term).aggregate(\n",
    "    unique_eids=hl.agg.collect_as_set(full.eid)\n",
    ")\n",
    "counts_person_per_drug = grouped_by_drug.annotate(\n",
    "    num_unique_eids=hl.len(grouped_by_drug.unique_eids)\n",
    ")\n",
    "counts_person_per_drug_pd = counts_person_per_drug.to_pandas()\n",
    "counts_person_per_drug_pd.sort_values(by='num_unique_eids', ascending=False, inplace=True)\n",
    "\n",
    "colors_person = [palette_terms[term] for term in counts_person_per_drug_pd['term']]\n",
    "\n",
    "plt.figure(figsize=(12, 8))\n",
    "bar_plot = sns.barplot(data=counts_person_per_drug_pd, x='term', y='num_unique_eids', palette=colors_person)\n",
    "bar_plot.set_xlabel('Drugs')\n",
    "bar_plot.set_ylabel('Number of persons')\n",
    "bar_plot.set_title('Number of persons per drug')\n",
    "bar_plot.set_xticklabels(bar_plot.get_xticklabels(), rotation=90, ha='right')\n",
    "\n",
    "for container in bar_plot.containers:\n",
    "    bar_plot.bar_label(container)\n",
    "\n",
    "plt.tight_layout()\n",
    "plt.show()"
   ]
  }
 ],
 "metadata": {
  "kernelspec": {
   "display_name": "Python 3 (ipykernel)",
   "language": "python",
   "name": "python3"
  },
  "language_info": {
   "codemirror_mode": {
    "name": "ipython",
    "version": 3
   },
   "file_extension": ".py",
   "mimetype": "text/x-python",
   "name": "python",
   "nbconvert_exporter": "python",
   "pygments_lexer": "ipython3",
   "version": "3.9.16"
  }
 },
 "nbformat": 4,
 "nbformat_minor": 4
}
