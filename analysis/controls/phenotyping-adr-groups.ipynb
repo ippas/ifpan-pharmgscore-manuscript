{
 "cells": [
  {
   "cell_type": "markdown",
   "id": "3676d316",
   "metadata": {
    "tags": []
   },
   "source": [
    "### UKB phenotyping of patients with serious ADRs and WES available"
   ]
  },
  {
   "cell_type": "code",
   "execution_count": 1,
   "id": "40b2299f",
   "metadata": {
    "tags": []
   },
   "outputs": [
    {
     "name": "stdout",
     "output_type": "stream",
     "text": [
      "/net/archive/groups/plggneuromol/gosborcz/ifpan-gosborcz-ukb\n"
     ]
    },
    {
     "data": {
      "text/html": [
       "<style>.container { width:100% !important; }</style>"
      ],
      "text/plain": [
       "<IPython.core.display.HTML object>"
      ]
     },
     "metadata": {},
     "output_type": "display_data"
    },
    {
     "data": {
      "text/html": [
       "\n",
       "    <div class=\"bk-root\">\n",
       "        <a href=\"https://bokeh.org\" target=\"_blank\" class=\"bk-logo bk-logo-small bk-logo-notebook\"></a>\n",
       "        <span id=\"1001\">Loading BokehJS ...</span>\n",
       "    </div>"
      ]
     },
     "metadata": {},
     "output_type": "display_data"
    },
    {
     "data": {
      "application/javascript": [
       "\n",
       "(function(root) {\n",
       "  function now() {\n",
       "    return new Date();\n",
       "  }\n",
       "\n",
       "  var force = true;\n",
       "\n",
       "  if (typeof root._bokeh_onload_callbacks === \"undefined\" || force === true) {\n",
       "    root._bokeh_onload_callbacks = [];\n",
       "    root._bokeh_is_loading = undefined;\n",
       "  }\n",
       "\n",
       "  var JS_MIME_TYPE = 'application/javascript';\n",
       "  var HTML_MIME_TYPE = 'text/html';\n",
       "  var EXEC_MIME_TYPE = 'application/vnd.bokehjs_exec.v0+json';\n",
       "  var CLASS_NAME = 'output_bokeh rendered_html';\n",
       "\n",
       "  /**\n",
       "   * Render data to the DOM node\n",
       "   */\n",
       "  function render(props, node) {\n",
       "    var script = document.createElement(\"script\");\n",
       "    node.appendChild(script);\n",
       "  }\n",
       "\n",
       "  /**\n",
       "   * Handle when an output is cleared or removed\n",
       "   */\n",
       "  function handleClearOutput(event, handle) {\n",
       "    var cell = handle.cell;\n",
       "\n",
       "    var id = cell.output_area._bokeh_element_id;\n",
       "    var server_id = cell.output_area._bokeh_server_id;\n",
       "    // Clean up Bokeh references\n",
       "    if (id != null && id in Bokeh.index) {\n",
       "      Bokeh.index[id].model.document.clear();\n",
       "      delete Bokeh.index[id];\n",
       "    }\n",
       "\n",
       "    if (server_id !== undefined) {\n",
       "      // Clean up Bokeh references\n",
       "      var cmd = \"from bokeh.io.state import curstate; print(curstate().uuid_to_server['\" + server_id + \"'].get_sessions()[0].document.roots[0]._id)\";\n",
       "      cell.notebook.kernel.execute(cmd, {\n",
       "        iopub: {\n",
       "          output: function(msg) {\n",
       "            var id = msg.content.text.trim();\n",
       "            if (id in Bokeh.index) {\n",
       "              Bokeh.index[id].model.document.clear();\n",
       "              delete Bokeh.index[id];\n",
       "            }\n",
       "          }\n",
       "        }\n",
       "      });\n",
       "      // Destroy server and session\n",
       "      var cmd = \"import bokeh.io.notebook as ion; ion.destroy_server('\" + server_id + \"')\";\n",
       "      cell.notebook.kernel.execute(cmd);\n",
       "    }\n",
       "  }\n",
       "\n",
       "  /**\n",
       "   * Handle when a new output is added\n",
       "   */\n",
       "  function handleAddOutput(event, handle) {\n",
       "    var output_area = handle.output_area;\n",
       "    var output = handle.output;\n",
       "\n",
       "    // limit handleAddOutput to display_data with EXEC_MIME_TYPE content only\n",
       "    if ((output.output_type != \"display_data\") || (!output.data.hasOwnProperty(EXEC_MIME_TYPE))) {\n",
       "      return\n",
       "    }\n",
       "\n",
       "    var toinsert = output_area.element.find(\".\" + CLASS_NAME.split(' ')[0]);\n",
       "\n",
       "    if (output.metadata[EXEC_MIME_TYPE][\"id\"] !== undefined) {\n",
       "      toinsert[toinsert.length - 1].firstChild.textContent = output.data[JS_MIME_TYPE];\n",
       "      // store reference to embed id on output_area\n",
       "      output_area._bokeh_element_id = output.metadata[EXEC_MIME_TYPE][\"id\"];\n",
       "    }\n",
       "    if (output.metadata[EXEC_MIME_TYPE][\"server_id\"] !== undefined) {\n",
       "      var bk_div = document.createElement(\"div\");\n",
       "      bk_div.innerHTML = output.data[HTML_MIME_TYPE];\n",
       "      var script_attrs = bk_div.children[0].attributes;\n",
       "      for (var i = 0; i < script_attrs.length; i++) {\n",
       "        toinsert[toinsert.length - 1].firstChild.setAttribute(script_attrs[i].name, script_attrs[i].value);\n",
       "      }\n",
       "      // store reference to server id on output_area\n",
       "      output_area._bokeh_server_id = output.metadata[EXEC_MIME_TYPE][\"server_id\"];\n",
       "    }\n",
       "  }\n",
       "\n",
       "  function register_renderer(events, OutputArea) {\n",
       "\n",
       "    function append_mime(data, metadata, element) {\n",
       "      // create a DOM node to render to\n",
       "      var toinsert = this.create_output_subarea(\n",
       "        metadata,\n",
       "        CLASS_NAME,\n",
       "        EXEC_MIME_TYPE\n",
       "      );\n",
       "      this.keyboard_manager.register_events(toinsert);\n",
       "      // Render to node\n",
       "      var props = {data: data, metadata: metadata[EXEC_MIME_TYPE]};\n",
       "      render(props, toinsert[toinsert.length - 1]);\n",
       "      element.append(toinsert);\n",
       "      return toinsert\n",
       "    }\n",
       "\n",
       "    /* Handle when an output is cleared or removed */\n",
       "    events.on('clear_output.CodeCell', handleClearOutput);\n",
       "    events.on('delete.Cell', handleClearOutput);\n",
       "\n",
       "    /* Handle when a new output is added */\n",
       "    events.on('output_added.OutputArea', handleAddOutput);\n",
       "\n",
       "    /**\n",
       "     * Register the mime type and append_mime function with output_area\n",
       "     */\n",
       "    OutputArea.prototype.register_mime_type(EXEC_MIME_TYPE, append_mime, {\n",
       "      /* Is output safe? */\n",
       "      safe: true,\n",
       "      /* Index of renderer in `output_area.display_order` */\n",
       "      index: 0\n",
       "    });\n",
       "  }\n",
       "\n",
       "  // register the mime type if in Jupyter Notebook environment and previously unregistered\n",
       "  if (root.Jupyter !== undefined) {\n",
       "    var events = require('base/js/events');\n",
       "    var OutputArea = require('notebook/js/outputarea').OutputArea;\n",
       "\n",
       "    if (OutputArea.prototype.mime_types().indexOf(EXEC_MIME_TYPE) == -1) {\n",
       "      register_renderer(events, OutputArea);\n",
       "    }\n",
       "  }\n",
       "\n",
       "  \n",
       "  if (typeof (root._bokeh_timeout) === \"undefined\" || force === true) {\n",
       "    root._bokeh_timeout = Date.now() + 5000;\n",
       "    root._bokeh_failed_load = false;\n",
       "  }\n",
       "\n",
       "  var NB_LOAD_WARNING = {'data': {'text/html':\n",
       "     \"<div style='background-color: #fdd'>\\n\"+\n",
       "     \"<p>\\n\"+\n",
       "     \"BokehJS does not appear to have successfully loaded. If loading BokehJS from CDN, this \\n\"+\n",
       "     \"may be due to a slow or bad network connection. Possible fixes:\\n\"+\n",
       "     \"</p>\\n\"+\n",
       "     \"<ul>\\n\"+\n",
       "     \"<li>re-rerun `output_notebook()` to attempt to load from CDN again, or</li>\\n\"+\n",
       "     \"<li>use INLINE resources instead, as so:</li>\\n\"+\n",
       "     \"</ul>\\n\"+\n",
       "     \"<code>\\n\"+\n",
       "     \"from bokeh.resources import INLINE\\n\"+\n",
       "     \"output_notebook(resources=INLINE)\\n\"+\n",
       "     \"</code>\\n\"+\n",
       "     \"</div>\"}};\n",
       "\n",
       "  function display_loaded() {\n",
       "    var el = document.getElementById(\"1001\");\n",
       "    if (el != null) {\n",
       "      el.textContent = \"BokehJS is loading...\";\n",
       "    }\n",
       "    if (root.Bokeh !== undefined) {\n",
       "      if (el != null) {\n",
       "        el.textContent = \"BokehJS \" + root.Bokeh.version + \" successfully loaded.\";\n",
       "      }\n",
       "    } else if (Date.now() < root._bokeh_timeout) {\n",
       "      setTimeout(display_loaded, 100)\n",
       "    }\n",
       "  }\n",
       "\n",
       "\n",
       "  function run_callbacks() {\n",
       "    try {\n",
       "      root._bokeh_onload_callbacks.forEach(function(callback) {\n",
       "        if (callback != null)\n",
       "          callback();\n",
       "      });\n",
       "    } finally {\n",
       "      delete root._bokeh_onload_callbacks\n",
       "    }\n",
       "    console.debug(\"Bokeh: all callbacks have finished\");\n",
       "  }\n",
       "\n",
       "  function load_libs(css_urls, js_urls, callback) {\n",
       "    if (css_urls == null) css_urls = [];\n",
       "    if (js_urls == null) js_urls = [];\n",
       "\n",
       "    root._bokeh_onload_callbacks.push(callback);\n",
       "    if (root._bokeh_is_loading > 0) {\n",
       "      console.debug(\"Bokeh: BokehJS is being loaded, scheduling callback at\", now());\n",
       "      return null;\n",
       "    }\n",
       "    if (js_urls == null || js_urls.length === 0) {\n",
       "      run_callbacks();\n",
       "      return null;\n",
       "    }\n",
       "    console.debug(\"Bokeh: BokehJS not loaded, scheduling load and callback at\", now());\n",
       "    root._bokeh_is_loading = css_urls.length + js_urls.length;\n",
       "\n",
       "    function on_load() {\n",
       "      root._bokeh_is_loading--;\n",
       "      if (root._bokeh_is_loading === 0) {\n",
       "        console.debug(\"Bokeh: all BokehJS libraries/stylesheets loaded\");\n",
       "        run_callbacks()\n",
       "      }\n",
       "    }\n",
       "\n",
       "    function on_error() {\n",
       "      console.error(\"failed to load \" + url);\n",
       "    }\n",
       "\n",
       "    for (var i = 0; i < css_urls.length; i++) {\n",
       "      var url = css_urls[i];\n",
       "      const element = document.createElement(\"link\");\n",
       "      element.onload = on_load;\n",
       "      element.onerror = on_error;\n",
       "      element.rel = \"stylesheet\";\n",
       "      element.type = \"text/css\";\n",
       "      element.href = url;\n",
       "      console.debug(\"Bokeh: injecting link tag for BokehJS stylesheet: \", url);\n",
       "      document.body.appendChild(element);\n",
       "    }\n",
       "\n",
       "    for (var i = 0; i < js_urls.length; i++) {\n",
       "      var url = js_urls[i];\n",
       "      var element = document.createElement('script');\n",
       "      element.onload = on_load;\n",
       "      element.onerror = on_error;\n",
       "      element.async = false;\n",
       "      element.src = url;\n",
       "      console.debug(\"Bokeh: injecting script tag for BokehJS library: \", url);\n",
       "      document.head.appendChild(element);\n",
       "    }\n",
       "  };var element = document.getElementById(\"1001\");\n",
       "  if (element == null) {\n",
       "    console.error(\"Bokeh: ERROR: autoload.js configured with elementid '1001' but no matching script tag was found. \")\n",
       "    return false;\n",
       "  }\n",
       "\n",
       "  function inject_raw_css(css) {\n",
       "    const element = document.createElement(\"style\");\n",
       "    element.appendChild(document.createTextNode(css));\n",
       "    document.body.appendChild(element);\n",
       "  }\n",
       "\n",
       "  \n",
       "  var js_urls = [\"https://cdn.pydata.org/bokeh/release/bokeh-1.4.0.min.js\", \"https://cdn.pydata.org/bokeh/release/bokeh-widgets-1.4.0.min.js\", \"https://cdn.pydata.org/bokeh/release/bokeh-tables-1.4.0.min.js\", \"https://cdn.pydata.org/bokeh/release/bokeh-gl-1.4.0.min.js\"];\n",
       "  var css_urls = [];\n",
       "  \n",
       "\n",
       "  var inline_js = [\n",
       "    function(Bokeh) {\n",
       "      Bokeh.set_log_level(\"info\");\n",
       "    },\n",
       "    function(Bokeh) {\n",
       "    \n",
       "    \n",
       "    }\n",
       "  ];\n",
       "\n",
       "  function run_inline_js() {\n",
       "    \n",
       "    if (root.Bokeh !== undefined || force === true) {\n",
       "      \n",
       "    for (var i = 0; i < inline_js.length; i++) {\n",
       "      inline_js[i].call(root, root.Bokeh);\n",
       "    }\n",
       "    if (force === true) {\n",
       "        display_loaded();\n",
       "      }} else if (Date.now() < root._bokeh_timeout) {\n",
       "      setTimeout(run_inline_js, 100);\n",
       "    } else if (!root._bokeh_failed_load) {\n",
       "      console.log(\"Bokeh: BokehJS failed to load within specified timeout.\");\n",
       "      root._bokeh_failed_load = true;\n",
       "    } else if (force !== true) {\n",
       "      var cell = $(document.getElementById(\"1001\")).parents('.cell').data().cell;\n",
       "      cell.output_area.append_execute_result(NB_LOAD_WARNING)\n",
       "    }\n",
       "\n",
       "  }\n",
       "\n",
       "  if (root._bokeh_is_loading === 0) {\n",
       "    console.debug(\"Bokeh: BokehJS loaded, going straight to plotting\");\n",
       "    run_inline_js();\n",
       "  } else {\n",
       "    load_libs(css_urls, js_urls, function() {\n",
       "      console.debug(\"Bokeh: BokehJS plotting callback run at\", now());\n",
       "      run_inline_js();\n",
       "    });\n",
       "  }\n",
       "}(window));"
      ],
      "application/vnd.bokehjs_load.v0+json": "\n(function(root) {\n  function now() {\n    return new Date();\n  }\n\n  var force = true;\n\n  if (typeof root._bokeh_onload_callbacks === \"undefined\" || force === true) {\n    root._bokeh_onload_callbacks = [];\n    root._bokeh_is_loading = undefined;\n  }\n\n  \n\n  \n  if (typeof (root._bokeh_timeout) === \"undefined\" || force === true) {\n    root._bokeh_timeout = Date.now() + 5000;\n    root._bokeh_failed_load = false;\n  }\n\n  var NB_LOAD_WARNING = {'data': {'text/html':\n     \"<div style='background-color: #fdd'>\\n\"+\n     \"<p>\\n\"+\n     \"BokehJS does not appear to have successfully loaded. If loading BokehJS from CDN, this \\n\"+\n     \"may be due to a slow or bad network connection. Possible fixes:\\n\"+\n     \"</p>\\n\"+\n     \"<ul>\\n\"+\n     \"<li>re-rerun `output_notebook()` to attempt to load from CDN again, or</li>\\n\"+\n     \"<li>use INLINE resources instead, as so:</li>\\n\"+\n     \"</ul>\\n\"+\n     \"<code>\\n\"+\n     \"from bokeh.resources import INLINE\\n\"+\n     \"output_notebook(resources=INLINE)\\n\"+\n     \"</code>\\n\"+\n     \"</div>\"}};\n\n  function display_loaded() {\n    var el = document.getElementById(\"1001\");\n    if (el != null) {\n      el.textContent = \"BokehJS is loading...\";\n    }\n    if (root.Bokeh !== undefined) {\n      if (el != null) {\n        el.textContent = \"BokehJS \" + root.Bokeh.version + \" successfully loaded.\";\n      }\n    } else if (Date.now() < root._bokeh_timeout) {\n      setTimeout(display_loaded, 100)\n    }\n  }\n\n\n  function run_callbacks() {\n    try {\n      root._bokeh_onload_callbacks.forEach(function(callback) {\n        if (callback != null)\n          callback();\n      });\n    } finally {\n      delete root._bokeh_onload_callbacks\n    }\n    console.debug(\"Bokeh: all callbacks have finished\");\n  }\n\n  function load_libs(css_urls, js_urls, callback) {\n    if (css_urls == null) css_urls = [];\n    if (js_urls == null) js_urls = [];\n\n    root._bokeh_onload_callbacks.push(callback);\n    if (root._bokeh_is_loading > 0) {\n      console.debug(\"Bokeh: BokehJS is being loaded, scheduling callback at\", now());\n      return null;\n    }\n    if (js_urls == null || js_urls.length === 0) {\n      run_callbacks();\n      return null;\n    }\n    console.debug(\"Bokeh: BokehJS not loaded, scheduling load and callback at\", now());\n    root._bokeh_is_loading = css_urls.length + js_urls.length;\n\n    function on_load() {\n      root._bokeh_is_loading--;\n      if (root._bokeh_is_loading === 0) {\n        console.debug(\"Bokeh: all BokehJS libraries/stylesheets loaded\");\n        run_callbacks()\n      }\n    }\n\n    function on_error() {\n      console.error(\"failed to load \" + url);\n    }\n\n    for (var i = 0; i < css_urls.length; i++) {\n      var url = css_urls[i];\n      const element = document.createElement(\"link\");\n      element.onload = on_load;\n      element.onerror = on_error;\n      element.rel = \"stylesheet\";\n      element.type = \"text/css\";\n      element.href = url;\n      console.debug(\"Bokeh: injecting link tag for BokehJS stylesheet: \", url);\n      document.body.appendChild(element);\n    }\n\n    for (var i = 0; i < js_urls.length; i++) {\n      var url = js_urls[i];\n      var element = document.createElement('script');\n      element.onload = on_load;\n      element.onerror = on_error;\n      element.async = false;\n      element.src = url;\n      console.debug(\"Bokeh: injecting script tag for BokehJS library: \", url);\n      document.head.appendChild(element);\n    }\n  };var element = document.getElementById(\"1001\");\n  if (element == null) {\n    console.error(\"Bokeh: ERROR: autoload.js configured with elementid '1001' but no matching script tag was found. \")\n    return false;\n  }\n\n  function inject_raw_css(css) {\n    const element = document.createElement(\"style\");\n    element.appendChild(document.createTextNode(css));\n    document.body.appendChild(element);\n  }\n\n  \n  var js_urls = [\"https://cdn.pydata.org/bokeh/release/bokeh-1.4.0.min.js\", \"https://cdn.pydata.org/bokeh/release/bokeh-widgets-1.4.0.min.js\", \"https://cdn.pydata.org/bokeh/release/bokeh-tables-1.4.0.min.js\", \"https://cdn.pydata.org/bokeh/release/bokeh-gl-1.4.0.min.js\"];\n  var css_urls = [];\n  \n\n  var inline_js = [\n    function(Bokeh) {\n      Bokeh.set_log_level(\"info\");\n    },\n    function(Bokeh) {\n    \n    \n    }\n  ];\n\n  function run_inline_js() {\n    \n    if (root.Bokeh !== undefined || force === true) {\n      \n    for (var i = 0; i < inline_js.length; i++) {\n      inline_js[i].call(root, root.Bokeh);\n    }\n    if (force === true) {\n        display_loaded();\n      }} else if (Date.now() < root._bokeh_timeout) {\n      setTimeout(run_inline_js, 100);\n    } else if (!root._bokeh_failed_load) {\n      console.log(\"Bokeh: BokehJS failed to load within specified timeout.\");\n      root._bokeh_failed_load = true;\n    } else if (force !== true) {\n      var cell = $(document.getElementById(\"1001\")).parents('.cell').data().cell;\n      cell.output_area.append_execute_result(NB_LOAD_WARNING)\n    }\n\n  }\n\n  if (root._bokeh_is_loading === 0) {\n    console.debug(\"Bokeh: BokehJS loaded, going straight to plotting\");\n    run_inline_js();\n  } else {\n    load_libs(css_urls, js_urls, function() {\n      console.debug(\"Bokeh: BokehJS plotting callback run at\", now());\n      run_inline_js();\n    });\n  }\n}(window));"
     },
     "metadata": {},
     "output_type": "display_data"
    }
   ],
   "source": [
    "%load_ext autoreload\n",
    "%autoreload 2\n",
    "\n",
    "# switch the directory to the main project directory\n",
    "%cd /net/archive/groups/plggneuromol/gosborcz/ifpan-gosborcz-ukb/\n",
    "\n",
    "# wide notebook display in browser\n",
    "\n",
    "from IPython.display import display\n",
    "from IPython.display import HTML\n",
    "import IPython.core.display as di # Example: di.display_html('<h3>%s:</h3>' % str, raw=True)\n",
    "\n",
    "display(HTML(\"<style>.container { width:100% !important; }</style>\"))\n",
    "\n",
    "import hail as hl\n",
    "\n",
    "from analysis.utils.load_spark import spark_master_host, spark_master_port, localfs_path, scratch_path, hail_log_uuid, wd\n",
    "from analysis.utils.load_spark import hl_init\n",
    "from analysis.utils.annotations import (\n",
    "    load_annotations,\n",
    "    load_annotations_description,\n",
    "    annotate_adr_patients,\n",
    "    annotate_date_codes_dict,\n",
    "    annotate_intent\n",
    ")\n",
    "from analysis.controls.kinship_pca_matches import remove_related, anno_matches\n",
    "from analysis.controls.groups_description import make_summary_table\n",
    "\n",
    "from bokeh.io import show, output_notebook\n",
    "from bokeh.layouts import gridplot\n",
    "output_notebook()"
   ]
  },
  {
   "cell_type": "code",
   "execution_count": 2,
   "id": "dcc413e7",
   "metadata": {
    "tags": []
   },
   "outputs": [
    {
     "name": "stdout",
     "output_type": "stream",
     "text": [
      "2022-08-17 19:29:16 WARN  NativeCodeLoader:62 - Unable to load native-hadoop library for your platform... using builtin-java classes where applicable\n"
     ]
    },
    {
     "name": "stderr",
     "output_type": "stream",
     "text": [
      "Setting default log level to \"WARN\".\n",
      "To adjust logging level use sc.setLogLevel(newLevel). For SparkR, use setLogLevel(newLevel).\n"
     ]
    },
    {
     "name": "stdout",
     "output_type": "stream",
     "text": [
      "2022-08-17 19:29:17 WARN  Hail:43 - This Hail JAR was compiled for Spark 3.1.3, running with Spark 3.1.2.\n",
      "  Compatibility is not guaranteed.\n",
      "2022-08-17 19:29:17 WARN  SparkConf:69 - Note that spark.local.dir will be overridden by the value set by the cluster manager (via SPARK_LOCAL_DIRS in mesos/standalone/kubernetes and LOCAL_DIRS in YARN).\n"
     ]
    },
    {
     "name": "stderr",
     "output_type": "stream",
     "text": [
      "Running on Apache Spark version 3.1.2\n",
      "SparkUI available at http://p0665.prometheus:4040\n",
      "Welcome to\n",
      "     __  __     <>__\n",
      "    / /_/ /__  __/ /\n",
      "   / __  / _ `/ / /\n",
      "  /_/ /_/\\_,_/_/_/   version 0.2.97-937922d7f46c\n",
      "LOGGING: writing to /net/archive/groups/plggneuromol/gosborcz/hail-554764c8-0b17-4911-b93b-00381c2319dc.log\n"
     ]
    }
   ],
   "source": [
    "hl_init(log=f'/net/archive/groups/plggneuromol/gosborcz/hail-{hail_log_uuid}.log')"
   ]
  },
  {
   "cell_type": "markdown",
   "id": "18bd5f03",
   "metadata": {
    "tags": []
   },
   "source": [
    "### 1. This analysis starts from a tsv file form the ukbiobank (described in preprocessing/downloads)"
   ]
  },
  {
   "cell_type": "code",
   "execution_count": 19,
   "id": "de2a3000",
   "metadata": {},
   "outputs": [
    {
     "name": "stderr",
     "output_type": "stream",
     "text": [
      "2022-05-24 21:13:22 Hail: INFO: Reading table without type imputation\n",
      "  Loading field 'coding' as type str (not specified)\n",
      "  Loading field 'meaning' as type str (not specified)\n",
      "  Loading field 'node_id' as type str (not specified)\n",
      "  Loading field 'parent_id' as type str (not specified)\n",
      "  Loading field 'selectable' as type str (not specified)\n"
     ]
    }
   ],
   "source": [
    "ht = load_annotations(wd+'data/ukb-annotations.ht')\n",
    "codes = hl.import_table(wd+'raw/dataset/data-codings/coding19.tsv', delimiter='\\t')"
   ]
  },
  {
   "cell_type": "markdown",
   "id": "d1ddadc4",
   "metadata": {
    "jp-MarkdownHeadingCollapsed": true,
    "tags": []
   },
   "source": [
    "### 2. Annotate the table with diagnostic codes:\n",
    "\n",
    "additionaly:\n",
    "\n",
    "    - only samples that have WES are kept [note: should later be changed for WGS]\n",
    "    \n",
    "    - withrawed samples are removed"
   ]
  },
  {
   "cell_type": "code",
   "execution_count": 20,
   "id": "72fb1d14",
   "metadata": {},
   "outputs": [
    {
     "name": "stderr",
     "output_type": "stream",
     "text": [
      "2022-05-24 21:13:31 Hail: INFO: wrote table with 200603 rows in 24 partitions to /localfs/23334010/annots_200k.ht\n"
     ]
    }
   ],
   "source": [
    "ht = annotate_adr_patients(annots = ht, overwrite=True)"
   ]
  },
  {
   "cell_type": "markdown",
   "id": "d12f7017",
   "metadata": {},
   "source": [
    "#### How many controls vs cases?"
   ]
  },
  {
   "cell_type": "code",
   "execution_count": 21,
   "id": "32d74583",
   "metadata": {},
   "outputs": [
    {
     "name": "stderr",
     "output_type": "stream",
     "text": [
      "[Stage 4:====================================================>    (22 + 2) / 24]\r"
     ]
    },
    {
     "data": {
      "text/plain": [
       "frozendict({'adr': 602, 'control': 200001})"
      ]
     },
     "execution_count": 21,
     "metadata": {},
     "output_type": "execute_result"
    }
   ],
   "source": [
    "ht.aggregate(hl.agg.counter(ht.group))"
   ]
  },
  {
   "cell_type": "markdown",
   "id": "7e7461a9",
   "metadata": {
    "jp-MarkdownHeadingCollapsed": true,
    "tags": []
   },
   "source": [
    "### 3. Annotate the table with a dictionary containing dates and diagnostic codes\n",
    "\n",
    "Here two fields are added: date_code_zip and date_code_dict. These are used to manually explore the data."
   ]
  },
  {
   "cell_type": "code",
   "execution_count": 22,
   "id": "777565ba",
   "metadata": {},
   "outputs": [],
   "source": [
    "ht = annotate_date_codes_dict(ht)"
   ]
  },
  {
   "cell_type": "markdown",
   "id": "c1af1a55",
   "metadata": {
    "tags": []
   },
   "source": [
    "### 4. Annotate the table with antidepressant toxicity relevant phenotypes:\n",
    "\n",
    "#### Intent column:\n",
    "\n",
    "x 'therapy' - with therapeutic dose, no toxicity codes for ADs NO history od self-harm with drugs\n",
    "\n",
    "x 'accidental' - accidental toxicity may be mixed with other drugs NO history od self-harm with drugs\n",
    "\n",
    "x 'intentional' - any toxicity codes with any self harm history with drugs\n",
    "\n",
    "#### Self-harm history:\n",
    "\n",
    "x 'no_self_harm' - no codes related with self-harm (Z915, X6, X7, X80, X81, X82, X83, X84)\n",
    "\n",
    "x 'with_drugs' - any code with 'X6'\n",
    "\n",
    "x 'without_drugs' - other self harm codes\n",
    "\n",
    "#### Two other columns based on most common codes:\n",
    "\n",
    "x mental_health_inpatient:\n",
    "\n",
    "    # depression F329, F339, F322, F321, F323, F331, F334, F251, F315, F338, F328, F313, F330, F316, F332\n",
    "    \n",
    "    # anxiety  F419, F410, F411, F418, F606, F408, F409, F413\n",
    "    \n",
    "    # both F412 or depression & anxiety codes\n",
    "\n",
    "x drug_abuse:\n",
    "\n",
    "    # Z864\n",
    "    \n",
    "#### Death column:\n",
    " \n",
    "     # from ADR\n",
    "     \n",
    "     # different cause\n",
    "     \n",
    "     # still allive\n"
   ]
  },
  {
   "cell_type": "code",
   "execution_count": 23,
   "id": "26cc54c0",
   "metadata": {
    "collapsed": true,
    "jupyter": {
     "outputs_hidden": true,
     "source_hidden": true
    },
    "tags": []
   },
   "outputs": [
    {
     "name": "stderr",
     "output_type": "stream",
     "text": [
      "[Stage 5:======================================================>  (23 + 1) / 24]\r"
     ]
    },
    {
     "data": {
      "text/plain": [
       "frozendict({'accidental': frozendict({'no_self_harm': 33, 'without_drugs': 4}), 'control': frozendict({'no_self_harm': 198673, 'with_drugs': 934, 'without_drugs': 394}), 'intentional': frozendict({'with_drugs': 471}), 'therapeutic': frozendict({'no_self_harm': 79, 'without_drugs': 5}), 'unspecified': frozendict({'no_self_harm': 9, 'without_drugs': 1})})"
      ]
     },
     "execution_count": 23,
     "metadata": {},
     "output_type": "execute_result"
    }
   ],
   "source": [
    "ht = annotate_intent(ht)\n",
    "ht.aggregate(hl.agg.group_by(ht.intention, hl.agg.counter(ht.self_harm)))"
   ]
  },
  {
   "cell_type": "code",
   "execution_count": 24,
   "id": "5ec58c93",
   "metadata": {
    "collapsed": true,
    "jupyter": {
     "outputs_hidden": true,
     "source_hidden": true
    },
    "scrolled": true,
    "tags": []
   },
   "outputs": [
    {
     "name": "stderr",
     "output_type": "stream",
     "text": [
      "[Stage 6:=========>                                               (4 + 20) / 24]\r"
     ]
    },
    {
     "data": {
      "text/plain": [
       "frozendict({'adr': frozendict({'adr': 11, 'alive': 497, 'other': 94}), 'control': frozendict({'alive': 187625, 'other': 12376})})"
      ]
     },
     "execution_count": 24,
     "metadata": {},
     "output_type": "execute_result"
    }
   ],
   "source": [
    "ht.aggregate(hl.agg.group_by(ht.group, hl.agg.counter(ht.death)))"
   ]
  },
  {
   "cell_type": "markdown",
   "id": "a53d379e",
   "metadata": {
    "tags": []
   },
   "source": [
    "### Example exploratory question:\n",
    "    what are the most common diagnoses in the study group ?"
   ]
  },
  {
   "cell_type": "code",
   "execution_count": 25,
   "id": "f6195d1c",
   "metadata": {
    "collapsed": true,
    "jupyter": {
     "outputs_hidden": true,
     "source_hidden": true
    },
    "tags": []
   },
   "outputs": [
    {
     "name": "stderr",
     "output_type": "stream",
     "text": [
      "[Stage 7:====================================================>    (22 + 2) / 24]\r"
     ]
    },
    {
     "name": "stdout",
     "output_type": "stream",
     "text": [
      "['F32.9 Depressive episode, unspecified'] 440\n",
      "['X61.9 Unspecified place'] 264\n",
      "['X61.0 Home'] 259\n",
      "['I10 Essential (primary) hypertension'] 257\n",
      "['Z91.5 Personal history of self-harm'] 242\n",
      "['Z86.4 Personal history of psychoactive substance abuse'] 197\n",
      "['T39.1 4-Aminophenol derivatives'] 189\n",
      "['T51.0 Ethanol'] 186\n",
      "['F41.9 Anxiety disorder, unspecified'] 170\n",
      "['F17.1 Harmful use'] 156\n",
      "['J45.9 Asthma, unspecified'] 141\n",
      "['E78.0 Pure hypercholesterolaemia'] 137\n",
      "['R69 Unknown and unspecified causes of morbidity'] 134\n",
      "['X60.0 Home'] 130\n",
      "['T42.4 Benzodiazepines'] 124\n",
      "['X60.9 Unspecified place'] 124\n",
      "['K44.9 Diaphragmatic hernia without obstruction or gangrene'] 122\n",
      "['R07.4 Chest pain, unspecified'] 112\n",
      "['K59.0 Constipation'] 111\n",
      "['Z86.7 Personal history of diseases of the circulatory system'] 110\n",
      "['K21.9 Gastro-oesophageal reflux disease without oesophagitis'] 108\n",
      "['T42.6 Other antiepileptic and sedative-hypnotic drugs'] 105\n",
      "['Z87.1 Personal history of diseases of the digestive system'] 105\n",
      "['K57.3 Diverticular disease of large intestine without perforation or abscess'] 103\n",
      "['X65.0 Home'] 102\n",
      "['R10.4 Other and unspecified abdominal pain'] 100\n",
      "['R11 Nausea and vomiting'] 99\n"
     ]
    }
   ],
   "source": [
    "results = ht.filter(ht.group == 'adr').explode('f_41270')\n",
    "most_common_codes = results.aggregate(hl.agg.counter(results['f_41270']))\n",
    "\n",
    "for w in sorted(most_common_codes, key=most_common_codes.get, reverse=True):\n",
    "        if w not in ['Y490', 'Y491', 'Y492', 'T430', 'T431', 'T432', None]:\n",
    "                r = codes.filter(codes.coding == w).meaning.collect()\n",
    "                print(r, most_common_codes[w])\n",
    "        if most_common_codes[w] < 100:\n",
    "            break"
   ]
  },
  {
   "cell_type": "code",
   "execution_count": 26,
   "id": "c91a3d43",
   "metadata": {
    "collapsed": true,
    "jupyter": {
     "outputs_hidden": true,
     "source_hidden": true
    },
    "scrolled": true,
    "tags": []
   },
   "outputs": [
    {
     "name": "stderr",
     "output_type": "stream",
     "text": [
      "[Stage 35:=================================================>      (21 + 3) / 24]\r"
     ]
    },
    {
     "name": "stdout",
     "output_type": "stream",
     "text": [
      "['I10 Essential (primary) hypertension'] 57240\n",
      "['E78.0 Pure hypercholesterolaemia'] 26493\n",
      "['Z86.4 Personal history of psychoactive substance abuse'] 26384\n",
      "['K57.3 Diverticular disease of large intestine without perforation or abscess'] 21659\n",
      "['K44.9 Diaphragmatic hernia without obstruction or gangrene'] 20259\n",
      "['J45.9 Asthma, unspecified'] 18275\n",
      "['K21.9 Gastro-oesophageal reflux disease without oesophagitis'] 15581\n",
      "['Z92.2 Personal history of long-term (current) use of other medicaments'] 15535\n",
      "['E11.9 Without complications'] 14777\n",
      "['Z86.7 Personal history of diseases of the circulatory system'] 14311\n",
      "['R07.4 Chest pain, unspecified'] 14184\n",
      "['Z87.1 Personal history of diseases of the digestive system'] 14014\n",
      "['M17.9 Gonarthrosis, unspecified'] 12920\n",
      "['Z88.0 Personal history of allergy to penicillin'] 12840\n",
      "['H26.9 Cataract, unspecified'] 12835\n",
      "['I25.1 Atherosclerotic heart disease'] 12521\n",
      "['E66.9 Obesity, unspecified'] 12286\n",
      "['Z92.1 Personal history of long-term (current) use of anticoagulants'] 11958\n",
      "['R10.4 Other and unspecified abdominal pain'] 11640\n",
      "['K29.7 Gastritis, unspecified'] 11134\n",
      "['E03.9 Hypothyroidism, unspecified'] 11130\n",
      "['Z53.8 Procedure not carried out for other reasons'] 11017\n",
      "['K59.0 Constipation'] 10921\n",
      "['R69 Unknown and unspecified causes of morbidity'] 10748\n",
      "['K63.5 Polyp of colon'] 10645\n",
      "['Z96.6 Presence of orthopaedic joint implants'] 10569\n",
      "['F32.9 Depressive episode, unspecified'] 10516\n",
      "['D64.9 Anaemia, unspecified'] 10387\n",
      "['N39.0 Urinary tract infection, site not specified'] 10278\n",
      "['I20.9 Angina pectoris, unspecified'] 10066\n",
      "['N40 Hyperplasia of prostate'] 9751\n",
      "['I25.9 Chronic ischaemic heart disease, unspecified'] 9633\n",
      "['Z82.4 Family history of ischaemic heart disease and other diseases of the circulatory system'] 9569\n",
      "['R11 Nausea and vomiting'] 9413\n",
      "['R31 Unspecified haematuria'] 9373\n",
      "['K40.9 Unilateral or unspecified inguinal hernia, without obstruction or gangrene'] 9119\n",
      "['M19.9 Arthrosis, unspecified'] 9091\n",
      "['K52.9 Non-infective gastro-enteritis and colitis, unspecified'] 9051\n",
      "['R19.4 Change in bowel habit'] 8948\n",
      "['F17.1 Harmful use'] 8429\n",
      "['I48 Atrial fibrillation and flutter'] 8153\n",
      "['I48.9 Atrial fibrillation and atrial flutter,  unspecified'] 7824\n",
      "['K62.5 Haemorrhage of anus and rectum'] 7664\n",
      "['K21.0 Gastro-oesophageal reflux disease with oesophagitis'] 7638\n",
      "['Z50.1 Other physical therapy'] 7574\n",
      "['R10.1 Pain localised to upper abdomen'] 7454\n",
      "['Z86.6 Personal history of diseases of the nervous system and sense organs'] 7415\n",
      "['N17.9 Acute renal failure, unspecified'] 7367\n",
      "['Z11.5 Special screening examination for other viral diseases'] 7328\n",
      "['R55 Syncope and collapse'] 7319\n",
      "['M16.9 Coxarthrosis, unspecified'] 7287\n",
      "['K30 Dyspepsia'] 7282\n",
      "['A09.9 Gastroenteritis and colitis of unspecified origin'] 7033\n",
      "['Z96.1 Presence of intraocular lens'] 7007\n",
      "['R33 Retention of urine'] 6977\n",
      "['I84.9 Unspecified haemorrhoids without complication'] 6890\n",
      "['Z88.8 Personal history of allergy to other drugs, medicaments and biological substances'] 6888\n",
      "['Z90.4 Acquired absence of other parts of digestive tract'] 6843\n",
      "['H25.1 Senile nuclear cataract'] 6809\n",
      "['Z90.7 Acquired absence of genital organ(s)'] 6653\n",
      "['J22 Unspecified acute lower respiratory infection'] 6634\n",
      "['Z87.4 Personal history of diseases of the genito-urinary system'] 6437\n",
      "['Z37.0 Single live birth'] 6352\n",
      "['Z72.1 Alcohol use'] 6319\n",
      "['J44.9 Chronic obstructive pulmonary disease, unspecified'] 6297\n",
      "['Z12.1 Special screening examination for neoplasm of intestinal tract'] 6297\n",
      "['F41.9 Anxiety disorder, unspecified'] 6270\n",
      "['K20 Oesophagitis'] 6237\n",
      "['I83.9 Varicose veins of lower extremities without ulcer or inflammation'] 6210\n",
      "['G56.0 Carpal tunnel syndrome'] 6193\n",
      "['J18.1 Lobar pneumonia, unspecified'] 6157\n",
      "['M13.9 Arthritis, unspecified'] 6145\n",
      "['D50.9 Iron deficiency anaemia, unspecified'] 6117\n",
      "['R07.3 Other chest pain'] 6071\n",
      "['K57.9 Diverticular disease of intestine, part unspecified, without perforation or abscess'] 6036\n",
      "['Z53.0 Procedure not carried out because of contraindication'] 6022\n",
      "['R13 Dysphagia'] 5943\n",
      "['R79.8 Other specified abnormal findings of blood chemistry'] 5921\n",
      "['K80.2 Calculus of gallbladder without cholecystitis'] 5918\n",
      "['Z51.2 Other chemotherapy'] 5898\n",
      "['I25.2 Old myocardial infarction'] 5860\n",
      "['Z85.8 Personal history of malignant neoplasms of other organs and systems'] 5727\n",
      "['R51 Headache'] 5695\n",
      "['K92.2 Gastro-intestinal haemorrhage, unspecified'] 5611\n",
      "['Z51.1 Chemotherapy session for neoplasm'] 5597\n",
      "['R06.0 Dyspnoea'] 5551\n",
      "['J90 Pleural effusion, not elsewhere classified'] 5524\n",
      "['R63.4 Abnormal weight loss'] 5506\n",
      "['Z85.3 Personal history of malignant neoplasm of breast'] 5398\n",
      "['Z80.0 Family history of malignant neoplasm of digestive organs'] 5354\n",
      "['K29.8 Duodenitis'] 5351\n",
      "['Z03.8 Observation for other suspected diseases and conditions'] 5338\n",
      "['N95.0 Postmenopausal bleeding'] 5301\n",
      "['K62.1 Rectal polyp'] 5271\n",
      "['C61 Malignant neoplasm of prostate'] 5244\n",
      "['K29.6 Other gastritis'] 5158\n",
      "['D25.9 Leiomyoma of uterus, unspecified'] 5099\n",
      "['R10.3 Pain localised to other parts of lower abdomen'] 5048\n",
      "['C50.9 Breast, unspecified'] 5007\n",
      "['M81.9 Osteoporosis, unspecified'] 4966\n"
     ]
    }
   ],
   "source": [
    "results = ht.filter(ht.group == 'control').explode('f_41270')\n",
    "most_common_codes = results.aggregate(hl.agg.counter(results['f_41270']))\n",
    "\n",
    "for w in sorted(most_common_codes, key=most_common_codes.get, reverse=True):\n",
    "        if w not in ['Y490', 'Y491', 'Y492', 'T430', 'T431', 'T432', None]:\n",
    "                r = codes.filter(codes.coding == w).meaning.collect()\n",
    "                print(r, most_common_codes[w])\n",
    "        if most_common_codes[w] < 5000:\n",
    "            break"
   ]
  },
  {
   "cell_type": "markdown",
   "id": "93b10ca2",
   "metadata": {
    "tags": []
   },
   "source": [
    "### 5. Table export after the initial phenotyping step:"
   ]
  },
  {
   "cell_type": "code",
   "execution_count": 27,
   "id": "fbe9cf78",
   "metadata": {
    "jupyter": {
     "source_hidden": true
    },
    "tags": []
   },
   "outputs": [
    {
     "name": "stderr",
     "output_type": "stream",
     "text": [
      "2022-05-24 21:24:12 Hail: INFO: wrote table with 200603 rows in 24 partitions to /net/archive/groups/plggneuromol/gosborcz/ifpan-gosborcz-ukb/data/hospital-codes-phenotyped.ht\n"
     ]
    }
   ],
   "source": [
    "ht.write('/net/archive/groups/plggneuromol/gosborcz/ifpan-gosborcz-ukb/data/hospital-codes-phenotyped.ht')"
   ]
  },
  {
   "cell_type": "markdown",
   "id": "07063f84",
   "metadata": {
    "tags": []
   },
   "source": [
    "### 6. Remove related individuals from the final table"
   ]
  },
  {
   "cell_type": "code",
   "execution_count": 3,
   "id": "aa14fe96",
   "metadata": {
    "jupyter": {
     "source_hidden": true
    },
    "tags": []
   },
   "outputs": [],
   "source": [
    "ht = hl.read_table('/net/archive/groups/plggneuromol/gosborcz/ifpan-gosborcz-ukb/data/hospital-codes-phenotyped.ht')"
   ]
  },
  {
   "cell_type": "code",
   "execution_count": null,
   "id": "00f84df2-6303-432e-956a-e803950b9755",
   "metadata": {
    "jupyter": {
     "source_hidden": true
    },
    "tags": []
   },
   "outputs": [],
   "source": [
    "ht = remove_related(ht, kin_cut=0.125)"
   ]
  },
  {
   "cell_type": "markdown",
   "id": "a2699cc5-de8c-4d6b-9b16-4e64298c58ab",
   "metadata": {
    "tags": []
   },
   "source": [
    "### 7. For each case find a PCA match\n",
    "we chose either 6 or 17 PCs (based on this paper: https://www.biorxiv.org/content/10.1101/841452v1.full)"
   ]
  },
  {
   "cell_type": "code",
   "execution_count": null,
   "id": "5749d10c-f773-4f05-941f-87720ec60e25",
   "metadata": {
    "jupyter": {
     "source_hidden": true
    },
    "tags": []
   },
   "outputs": [],
   "source": [
    "ht = anno_matches(ht)"
   ]
  },
  {
   "cell_type": "markdown",
   "id": "be1bceff-5539-4044-9571-c8c74cac9c59",
   "metadata": {},
   "source": [
    "#### export final annotations for burden analysis and save the table"
   ]
  },
  {
   "cell_type": "code",
   "execution_count": null,
   "id": "ff30e93c-0fa4-404c-b803-e7da2015cafa",
   "metadata": {
    "jupyter": {
     "source_hidden": true
    },
    "tags": []
   },
   "outputs": [],
   "source": [
    "to_export = ht.select(\n",
    "    ht.group,\n",
    "    ht.intention,\n",
    "    ht.self_harm,\n",
    "    ht.drug_abuse,\n",
    "    ht.mental_health_inpatient,\n",
    "    ht.is_match_6,\n",
    "    ht.match_6,\n",
    "    ht.is_match_17,\n",
    "    ht.match_17\n",
    ")\n",
    "\n",
    "to_export.write('/net/archive/groups/plggneuromol/gosborcz/ifpan-gosborcz-ukb/data/annots-for-burden.ht')\n",
    "ht.write('/net/archive/groups/plggneuromol/gosborcz/ifpan-gosborcz-ukb/data/full-annots-for-burden.ht')"
   ]
  },
  {
   "cell_type": "markdown",
   "id": "0e88841f",
   "metadata": {
    "tags": []
   },
   "source": [
    "### 8. Prepare a table to be included in the final paper:\n",
    "\n",
    "* note: due to no major differences in all controls and pca_6 controls and for simplicity 'PCA_controls_6', and 'PCA_controls_17' are skipped in the final analyses*\n",
    "\n",
    "x male_to_female_ratio \n",
    "x age (+/- sd)\n",
    "x townsend (+/- sd)\n",
    "x bmi (+/- )\n",
    "x depression and/or anxiety hospital codes (mental health inpatient)\n",
    "x self harm with drugs (& without drugs)\n",
    "x drug abuse history\n",
    "x additional fields\n",
    "x number of self-reported non-cancer illnesses\n",
    "x ever contemplatedcontemplated self-harm \n",
    "x substances taken for depression"
   ]
  },
  {
   "cell_type": "code",
   "execution_count": 3,
   "id": "687fcc4e-a87b-4866-aea5-1844e71b6f3b",
   "metadata": {
    "tags": []
   },
   "outputs": [],
   "source": [
    "ht = hl.read_table('/net/archive/groups/plggneuromol/gosborcz/ifpan-gosborcz-ukb/data/full-annots-for-burden.ht')"
   ]
  },
  {
   "cell_type": "code",
   "execution_count": 4,
   "id": "f851bda8-3892-4c50-a884-32a620f9fa82",
   "metadata": {
    "tags": []
   },
   "outputs": [
    {
     "name": "stderr",
     "output_type": "stream",
     "text": [
      "[Stage 65:===================================================>    (22 + 2) / 24]\r"
     ]
    }
   ],
   "source": [
    "manuscript_table = make_summary_table(ht)"
   ]
  },
  {
   "cell_type": "code",
   "execution_count": 5,
   "id": "0a774e25-2e6c-485a-bdf2-d86813d746fb",
   "metadata": {},
   "outputs": [
    {
     "data": {
      "text/html": [
       "<div>\n",
       "<style scoped>\n",
       "    .dataframe tbody tr th:only-of-type {\n",
       "        vertical-align: middle;\n",
       "    }\n",
       "\n",
       "    .dataframe tbody tr th {\n",
       "        vertical-align: top;\n",
       "    }\n",
       "\n",
       "    .dataframe thead th {\n",
       "        text-align: right;\n",
       "    }\n",
       "</style>\n",
       "<table border=\"1\" class=\"dataframe\">\n",
       "  <thead>\n",
       "    <tr style=\"text-align: right;\">\n",
       "      <th></th>\n",
       "      <th>n</th>\n",
       "      <th>percentage of females</th>\n",
       "      <th>Townsend mean</th>\n",
       "      <th>Townsend SD</th>\n",
       "      <th>BMI mean</th>\n",
       "      <th>BMI SD</th>\n",
       "      <th>age when at assesment centre mean</th>\n",
       "      <th>age when at assesment centre SD</th>\n",
       "      <th>depression hospital code</th>\n",
       "      <th>anxiety hospital code</th>\n",
       "      <th>both depression and anxiety hospital code</th>\n",
       "      <th>self harm with drugs</th>\n",
       "      <th>self harm without drugs</th>\n",
       "      <th>drug abuse history</th>\n",
       "      <th>number of non-cancer illness reported mean</th>\n",
       "      <th>number of non-cancer illness reported sd</th>\n",
       "      <th>ever contemplated self harm</th>\n",
       "      <th>taken any medication for depression</th>\n",
       "    </tr>\n",
       "  </thead>\n",
       "  <tbody>\n",
       "    <tr>\n",
       "      <th>0</th>\n",
       "      <td>602</td>\n",
       "      <td>59.136213</td>\n",
       "      <td>0.341858</td>\n",
       "      <td>3.626968</td>\n",
       "      <td>28.379127</td>\n",
       "      <td>6.127306</td>\n",
       "      <td>53.617940</td>\n",
       "      <td>8.212514</td>\n",
       "      <td>267</td>\n",
       "      <td>16</td>\n",
       "      <td>200</td>\n",
       "      <td>471</td>\n",
       "      <td>10</td>\n",
       "      <td>197</td>\n",
       "      <td>3.308970</td>\n",
       "      <td>2.502003</td>\n",
       "      <td>97</td>\n",
       "      <td>105</td>\n",
       "    </tr>\n",
       "    <tr>\n",
       "      <th>1</th>\n",
       "      <td>471</td>\n",
       "      <td>60.084926</td>\n",
       "      <td>0.560783</td>\n",
       "      <td>3.671732</td>\n",
       "      <td>28.435662</td>\n",
       "      <td>6.032138</td>\n",
       "      <td>52.125265</td>\n",
       "      <td>7.704413</td>\n",
       "      <td>230</td>\n",
       "      <td>7</td>\n",
       "      <td>158</td>\n",
       "      <td>471</td>\n",
       "      <td>0</td>\n",
       "      <td>146</td>\n",
       "      <td>3.367304</td>\n",
       "      <td>2.559465</td>\n",
       "      <td>87</td>\n",
       "      <td>88</td>\n",
       "    </tr>\n",
       "    <tr>\n",
       "      <th>2</th>\n",
       "      <td>121</td>\n",
       "      <td>56.198347</td>\n",
       "      <td>-0.509372</td>\n",
       "      <td>3.294889</td>\n",
       "      <td>28.223059</td>\n",
       "      <td>6.591078</td>\n",
       "      <td>59.033058</td>\n",
       "      <td>7.859230</td>\n",
       "      <td>34</td>\n",
       "      <td>9</td>\n",
       "      <td>39</td>\n",
       "      <td>0</td>\n",
       "      <td>9</td>\n",
       "      <td>49</td>\n",
       "      <td>3.066116</td>\n",
       "      <td>2.273584</td>\n",
       "      <td>10</td>\n",
       "      <td>16</td>\n",
       "    </tr>\n",
       "    <tr>\n",
       "      <th>3</th>\n",
       "      <td>199220</td>\n",
       "      <td>55.052706</td>\n",
       "      <td>-1.340377</td>\n",
       "      <td>3.049399</td>\n",
       "      <td>27.373099</td>\n",
       "      <td>4.752145</td>\n",
       "      <td>56.464220</td>\n",
       "      <td>8.102170</td>\n",
       "      <td>7460</td>\n",
       "      <td>3707</td>\n",
       "      <td>4015</td>\n",
       "      <td>930</td>\n",
       "      <td>391</td>\n",
       "      <td>26261</td>\n",
       "      <td>1.865460</td>\n",
       "      <td>1.864655</td>\n",
       "      <td>9718</td>\n",
       "      <td>19280</td>\n",
       "    </tr>\n",
       "    <tr>\n",
       "      <th>4</th>\n",
       "      <td>930</td>\n",
       "      <td>56.666667</td>\n",
       "      <td>0.348471</td>\n",
       "      <td>3.663557</td>\n",
       "      <td>28.214876</td>\n",
       "      <td>5.819613</td>\n",
       "      <td>53.523656</td>\n",
       "      <td>8.202542</td>\n",
       "      <td>363</td>\n",
       "      <td>24</td>\n",
       "      <td>187</td>\n",
       "      <td>930</td>\n",
       "      <td>0</td>\n",
       "      <td>275</td>\n",
       "      <td>2.987083</td>\n",
       "      <td>2.598717</td>\n",
       "      <td>138</td>\n",
       "      <td>137</td>\n",
       "    </tr>\n",
       "    <tr>\n",
       "      <th>5</th>\n",
       "      <td>15182</td>\n",
       "      <td>65.182453</td>\n",
       "      <td>-0.672354</td>\n",
       "      <td>3.347470</td>\n",
       "      <td>28.540304</td>\n",
       "      <td>5.616781</td>\n",
       "      <td>56.830655</td>\n",
       "      <td>8.090759</td>\n",
       "      <td>7460</td>\n",
       "      <td>3707</td>\n",
       "      <td>4015</td>\n",
       "      <td>574</td>\n",
       "      <td>263</td>\n",
       "      <td>4393</td>\n",
       "      <td>3.046973</td>\n",
       "      <td>2.397562</td>\n",
       "      <td>1395</td>\n",
       "      <td>2968</td>\n",
       "    </tr>\n",
       "  </tbody>\n",
       "</table>\n",
       "</div>"
      ],
      "text/plain": [
       "        n  percentage of females  Townsend mean  Townsend SD   BMI mean  \\\n",
       "0     602              59.136213       0.341858     3.626968  28.379127   \n",
       "1     471              60.084926       0.560783     3.671732  28.435662   \n",
       "2     121              56.198347      -0.509372     3.294889  28.223059   \n",
       "3  199220              55.052706      -1.340377     3.049399  27.373099   \n",
       "4     930              56.666667       0.348471     3.663557  28.214876   \n",
       "5   15182              65.182453      -0.672354     3.347470  28.540304   \n",
       "\n",
       "     BMI SD  age when at assesment centre mean  \\\n",
       "0  6.127306                          53.617940   \n",
       "1  6.032138                          52.125265   \n",
       "2  6.591078                          59.033058   \n",
       "3  4.752145                          56.464220   \n",
       "4  5.819613                          53.523656   \n",
       "5  5.616781                          56.830655   \n",
       "\n",
       "   age when at assesment centre SD  depression hospital code  \\\n",
       "0                         8.212514                       267   \n",
       "1                         7.704413                       230   \n",
       "2                         7.859230                        34   \n",
       "3                         8.102170                      7460   \n",
       "4                         8.202542                       363   \n",
       "5                         8.090759                      7460   \n",
       "\n",
       "   anxiety hospital code  both depression and anxiety hospital code  \\\n",
       "0                     16                                        200   \n",
       "1                      7                                        158   \n",
       "2                      9                                         39   \n",
       "3                   3707                                       4015   \n",
       "4                     24                                        187   \n",
       "5                   3707                                       4015   \n",
       "\n",
       "   self harm with drugs  self harm without drugs  drug abuse history  \\\n",
       "0                   471                       10                 197   \n",
       "1                   471                        0                 146   \n",
       "2                     0                        9                  49   \n",
       "3                   930                      391               26261   \n",
       "4                   930                        0                 275   \n",
       "5                   574                      263                4393   \n",
       "\n",
       "   number of non-cancer illness reported mean  \\\n",
       "0                                    3.308970   \n",
       "1                                    3.367304   \n",
       "2                                    3.066116   \n",
       "3                                    1.865460   \n",
       "4                                    2.987083   \n",
       "5                                    3.046973   \n",
       "\n",
       "   number of non-cancer illness reported sd  ever contemplated self harm  \\\n",
       "0                                  2.502003                           97   \n",
       "1                                  2.559465                           87   \n",
       "2                                  2.273584                           10   \n",
       "3                                  1.864655                         9718   \n",
       "4                                  2.598717                          138   \n",
       "5                                  2.397562                         1395   \n",
       "\n",
       "   taken any medication for depression  \n",
       "0                                  105  \n",
       "1                                   88  \n",
       "2                                   16  \n",
       "3                                19280  \n",
       "4                                  137  \n",
       "5                                 2968  "
      ]
     },
     "execution_count": 5,
     "metadata": {},
     "output_type": "execute_result"
    }
   ],
   "source": [
    "manuscript_table"
   ]
  },
  {
   "cell_type": "code",
   "execution_count": 6,
   "id": "a7c3f257-e8e6-4af0-bed3-eac333f908ef",
   "metadata": {
    "tags": []
   },
   "outputs": [],
   "source": [
    "manuscript_table.to_csv(\n",
    "    '/net/archive/groups/plggneuromol/gosborcz/ifpan-gosborcz-ukb/results/description-table.csv'\n",
    "                       )"
   ]
  }
 ],
 "metadata": {
  "kernelspec": {
   "display_name": "Python 3 (ipykernel)",
   "language": "python",
   "name": "python3"
  },
  "language_info": {
   "codemirror_mode": {
    "name": "ipython",
    "version": 3
   },
   "file_extension": ".py",
   "mimetype": "text/x-python",
   "name": "python",
   "nbconvert_exporter": "python",
   "pygments_lexer": "ipython3",
   "version": "3.7.7"
  }
 },
 "nbformat": 4,
 "nbformat_minor": 5
}
